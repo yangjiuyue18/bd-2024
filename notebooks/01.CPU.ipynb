{
 "cells": [
  {
   "cell_type": "markdown",
   "metadata": {},
   "source": [
    "# Архитектура компьютера\n",
    "\n",
    "Примеры архитектур: `x86-32`, `x86-64`, `ARM (AArch32, AArch64)`, `SPARC`, `MIPS`\n",
    "\n",
    "`Архитектура фон Неймана` - совместное хранение команд и данных в памяти компьютера\n",
    "\n",
    "`Машинный код` - простые инструкции, которые может выполнять `CPU`. Обычно эти инструкции могут быть записаны в бинарном виде, или в виде человеко-читаемого низкоуровневого языка программирования. \n",
    "\n",
    "`Регистр процессора` — сверхбыстрая память внутри процессора. Обычно имеют названия. "
   ]
  },
  {
   "cell_type": "markdown",
   "metadata": {},
   "source": [
    "![CPU](https://upload.wikimedia.org/wikipedia/commons/d/d8/ABasicComputer.gif)"
   ]
  },
  {
   "cell_type": "markdown",
   "metadata": {},
   "source": [
    "# Организация памяти"
   ]
  },
  {
   "cell_type": "markdown",
   "metadata": {},
   "source": [
    "![Pages](https://upload.wikimedia.org/wikipedia/commons/thumb/3/32/Virtual_address_space_and_physical_address_space_relationship.svg/800px-Virtual_address_space_and_physical_address_space_relationship.svg.png)"
   ]
  },
  {
   "cell_type": "markdown",
   "metadata": {},
   "source": [
    "![Pages](../img/virtual_memory.png)"
   ]
  },
  {
   "cell_type": "markdown",
   "metadata": {},
   "source": [
    "# Машинный код"
   ]
  },
  {
   "cell_type": "markdown",
   "metadata": {},
   "source": [
    "```c\n",
    "#include<stdio.h>\n",
    "\n",
    "int main(int argc, char *argv[]) {\n",
    "    int a = 2;\n",
    "    int b;\n",
    "    \n",
    "    a = (20 * 1000 + 2 - e)\n",
    "    if a > 10:\n",
    "       b = *a[sas]\n",
    "    else:\n",
    "       b = 20\n",
    "\n",
    "\n",
    "    b = (a + 17) * 9;\n",
    "    printf(\"%d\\n\", b);\n",
    "\n",
    "    return 0;\n",
    "\n",
    "}\n",
    "\n",
    "```"
   ]
  },
  {
   "cell_type": "markdown",
   "metadata": {},
   "source": [
    "```c\n",
    "# int main(int argc, char *argv[]) {\n",
    "   push   %rbp\n",
    "   mov    %rsp,%rbp\n",
    "   sub    $0x20,%rsp\n",
    "   mov    %edi,-0x14(%rbp)\n",
    "   mov    %rsi,-0x20(%rbp)\n",
    "\n",
    "# int a = 2;\n",
    "   movl   $0x2,-0x8(%rbp)\n",
    "\n",
    "# int b;\n",
    "# b = (a + 17) * 9;\n",
    "   mov    -0x8(%rbp),%eax\n",
    "   lea    0x11(%rax),%edx\n",
    "   mov    %edx,%eax\n",
    "   shl    $0x3,%eax\n",
    "   add    %edx,%eax\n",
    "   mov    %eax,-0x4(%rbp)\n",
    "\n",
    "# printf(\"%d\\n\", b);\n",
    "   mov    -0x4(%rbp),%eax\n",
    "   mov    %eax,%esi\n",
    "   lea    0x98(%rip),%rdi        # 0x714\n",
    "   mov    $0x0,%eax\n",
    "   callq  0x520 <printf@plt>\n",
    "```\n"
   ]
  },
  {
   "cell_type": "code",
   "execution_count": 3,
   "metadata": {},
   "outputs": [
    {
     "name": "stdout",
     "output_type": "stream",
     "text": [
      "  8           0 LOAD_GLOBAL              0 (A)\n",
      "              2 CALL_FUNCTION            0\n",
      "              4 STORE_FAST               0 (a)\n",
      "\n",
      "  9           6 LOAD_FAST                0 (a)\n",
      "              8 LOAD_FAST                0 (a)\n",
      "             10 BINARY_ADD\n",
      "             12 RETURN_VALUE\n"
     ]
    }
   ],
   "source": [
    "import dis\n",
    "\n",
    "def add(a):\n",
    "    b = (a + 17) * 9\n",
    "    return b\n",
    "\n",
    "dis.dis(add)"
   ]
  },
  {
   "cell_type": "markdown",
   "metadata": {},
   "source": [
    "JIT (JUST IN TIME COMPILATION), AOT (AHEAD OF TIME)\n",
    "\n",
    "`*.py` -> byte code (\\_\\_pycache\\_\\_, `*.pyc`) -> eval\n",
    "\n",
    "`*.c`, `*.cpp` -> native -> `*.exe`, elf\n",
    "\n",
    "`*.java` -> bytecode (`*.class`, `*.jar`) -> java\n",
    "\n",
    "`*.cs` -> bytecode -> CLR"
   ]
  }
 ],
 "metadata": {
  "kernelspec": {
   "display_name": "Python 3.10.6 64-bit",
   "language": "python",
   "name": "python3"
  },
  "language_info": {
   "codemirror_mode": {
    "name": "ipython",
    "version": 3
   },
   "file_extension": ".py",
   "mimetype": "text/x-python",
   "name": "python",
   "nbconvert_exporter": "python",
   "pygments_lexer": "ipython3",
   "version": "3.10.6"
  },
  "vscode": {
   "interpreter": {
    "hash": "916dbcbb3f70747c44a77c7bcd40155683ae19c65e1c03b4aa3499c5328201f1"
   }
  }
 },
 "nbformat": 4,
 "nbformat_minor": 4
}
