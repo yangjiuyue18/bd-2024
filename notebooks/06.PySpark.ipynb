{
 "cells": [
  {
   "cell_type": "code",
   "execution_count": 1,
   "metadata": {},
   "outputs": [],
   "source": [
    "import pyspark\n",
    "import os\n",
    "\n",
    "from pyspark import SparkContext\n",
    "from pyspark.sql import SparkSession\n",
    "from pyspark.sql.functions import year, month, dayofmonth\n",
    "\n",
    "#os.environ[\"JAVA_HOME\"] = \"/home/alex/.jdks/corretto-11.0.17/\""
   ]
  },
  {
   "cell_type": "markdown",
   "metadata": {},
   "source": [
    "# RDD API"
   ]
  },
  {
   "cell_type": "markdown",
   "metadata": {},
   "source": [
    "API почти полностью совпадает с нативным на Scala. Отсутствие типов и избыточный синтаксис для lambda-функций в Python затрудняет написание и чтение подобного кода. "
   ]
  },
  {
   "cell_type": "code",
   "execution_count": null,
   "metadata": {},
   "outputs": [],
   "source": [
    "sc = SparkContext(master='local[*]')\n",
    "#sc = SparkContext(master='spark://localhost:7077')"
   ]
  },
  {
   "cell_type": "markdown",
   "metadata": {},
   "source": [
    "В качестве примере создадим `RDD` из чисел от 0 до 999, отфильтруем те, которые делятся на 3 и оставшиеся возведем в квадрат. "
   ]
  },
  {
   "cell_type": "code",
   "execution_count": 3,
   "metadata": {},
   "outputs": [
    {
     "name": "stderr",
     "output_type": "stream",
     "text": [
      "                                                                                \r"
     ]
    },
    {
     "data": {
      "text/plain": [
       "[10, 37, 82, 145, 226, 325, 442, 577, 730, 901]"
      ]
     },
     "execution_count": 3,
     "metadata": {},
     "output_type": "execute_result"
    }
   ],
   "source": [
    "rdd = sc.parallelize(range(1, 1000))\n",
    "\n",
    "result = rdd.filter(lambda x: x % 3 == 0) \\\n",
    "            .map(lambda x: x**2) \\\n",
    "            .map(lambda x: x + 1) \\\n",
    "            .collect()\n",
    "\n",
    "result[:10]"
   ]
  },
  {
   "cell_type": "markdown",
   "metadata": {},
   "source": [
    "Дальше будем работать с данными о средней дневной температуре в Санкт-Петербурге за 2008-2016 гг. Файл имеет следующий формат (`CSV` без заголовка):"
   ]
  },
  {
   "cell_type": "code",
   "execution_count": 4,
   "metadata": {},
   "outputs": [
    {
     "data": {
      "text/plain": [
       "['2008-01-01,0',\n",
       " '2008-01-02,-5',\n",
       " '2008-01-03,-11',\n",
       " '2008-01-04,-11',\n",
       " '2008-01-05,-12',\n",
       " '2008-01-06,-14',\n",
       " '2008-01-07,-6',\n",
       " '2008-01-08,-7',\n",
       " '2008-01-09,-6',\n",
       " '2008-01-10,0']"
      ]
     },
     "execution_count": 4,
     "metadata": {},
     "output_type": "execute_result"
    }
   ],
   "source": [
    "WEATHER_FILE = '../data/weather.csv'\n",
    "\n",
    "# !head -n 10 {WEATHER_FILE}\n",
    "[line.strip() for line, _ in zip(open(WEATHER_FILE), range(10))]"
   ]
  },
  {
   "cell_type": "markdown",
   "metadata": {},
   "source": [
    "Реализуем функцию `parse_date`, которая будет переводить строку с датой в кортеж `(year, month, day)`. Затем:\n",
    "- прочитаем содержимое файла в `RDD`\n",
    "- разделим содержимое каждой строки по запятой\n",
    "- первую колонку превратим в кортеж `(year, month, day)` и прибавим к нему вторую - температуру"
   ]
  },
  {
   "cell_type": "code",
   "execution_count": 5,
   "metadata": {},
   "outputs": [
    {
     "data": {
      "text/plain": [
       "[(2014, 3, 12, 5),\n",
       " (2012, 2, 3, -17),\n",
       " (2010, 10, 12, 4),\n",
       " (2010, 5, 3, 9),\n",
       " (2009, 6, 1, 25),\n",
       " (2013, 3, 8, -6),\n",
       " (2008, 1, 3, -11),\n",
       " (2013, 7, 24, 18),\n",
       " (2014, 6, 24, 13),\n",
       " (2016, 1, 28, 5)]"
      ]
     },
     "execution_count": 5,
     "metadata": {},
     "output_type": "execute_result"
    }
   ],
   "source": [
    "def parse_date(date_str):\n",
    "    \"\"\" 2008-02-02 -> (2008, 2, 2) \"\"\"\n",
    "    return tuple(map(int, date_str.split('-')))\n",
    "\n",
    "\n",
    "rdd = sc.textFile(WEATHER_FILE) \\\n",
    "    .map(lambda line: line.split(',')) \\\n",
    "    .map(lambda lst: parse_date(lst[0]) + (int(lst[1]), ) )\n",
    "\n",
    "rdd.takeSample(num=10, withReplacement=False)              "
   ]
  },
  {
   "cell_type": "markdown",
   "metadata": {},
   "source": [
    "Посчитаем среднюю дневную температуру летних месяцев по годам. Для этого:\n",
    "- отфильтруем данные для летних месяцев\n",
    "- отобразим исходные данные в набор пар ключ-значение - `(year, temp)`\n",
    "- каждое значение отобразим в пару `(temp, 1)`\n",
    "- сделаем свертку по ключу, считая суммарную температуру и число дней\n",
    "- посчитаем среднее\n",
    "- отсортируем по году"
   ]
  },
  {
   "cell_type": "code",
   "execution_count": 6,
   "metadata": {},
   "outputs": [
    {
     "name": "stderr",
     "output_type": "stream",
     "text": [
      "                                                                                \r"
     ]
    },
    {
     "data": {
      "text/plain": [
       "[(2008, (1667, 92)),\n",
       " (2010, (2035, 92)),\n",
       " (2012, (1756, 92)),\n",
       " (2014, (1905, 92)),\n",
       " (2016, (1778, 92)),\n",
       " (2009, (1723, 92)),\n",
       " (2011, (1940, 91)),\n",
       " (2013, (1982, 92)),\n",
       " (2015, (1751, 92))]"
      ]
     },
     "execution_count": 6,
     "metadata": {},
     "output_type": "execute_result"
    }
   ],
   "source": [
    "rdd.filter(lambda lst: 6 <= lst[1] <= 8) \\\n",
    "   .map(lambda lst: (lst[0], lst[-1])) \\\n",
    "   .mapValues(lambda v: (v, 1)) \\\n",
    "   .reduceByKey(lambda x, y: (x[0] + y[0], x[1] + y[1])).collect()"
   ]
  },
  {
   "cell_type": "code",
   "execution_count": 7,
   "metadata": {},
   "outputs": [
    {
     "data": {
      "text/plain": [
       "[(2008, 18.119565217391305),\n",
       " (2009, 18.72826086956522),\n",
       " (2010, 22.119565217391305),\n",
       " (2011, 21.318681318681318),\n",
       " (2012, 19.08695652173913),\n",
       " (2013, 21.543478260869566),\n",
       " (2014, 20.706521739130434),\n",
       " (2015, 19.032608695652176),\n",
       " (2016, 19.32608695652174)]"
      ]
     },
     "execution_count": 7,
     "metadata": {},
     "output_type": "execute_result"
    }
   ],
   "source": [
    "\n",
    "rdd.filter(lambda lst: 6 <= lst[1] <= 8) \\\n",
    "   .map(lambda lst: (lst[0], lst[-1])) \\\n",
    "   .mapValues(lambda v: (v, 1)) \\\n",
    "   .reduceByKey(lambda x, y: (x[0] + y[0], x[1] + y[1])) \\\n",
    "   .mapValues(lambda v: v[0] / v[1]) \\\n",
    "   .sortByKey() \\\n",
    "   .take(10) "
   ]
  },
  {
   "cell_type": "markdown",
   "metadata": {},
   "source": [
    "# Spark SQL"
   ]
  },
  {
   "cell_type": "markdown",
   "metadata": {},
   "source": [
    "Точка входа - `SparkSession`. Из неё можно получить `SparkContext`."
   ]
  },
  {
   "cell_type": "code",
   "execution_count": 8,
   "metadata": {},
   "outputs": [],
   "source": [
    "spark = SparkSession \\\n",
    "    .builder \\\n",
    "    .master(\"local[*]\") \\\n",
    "    .appName(\"PySpark\") \\\n",
    "    .getOrCreate()"
   ]
  },
  {
   "cell_type": "markdown",
   "metadata": {},
   "source": [
    "Будем решать ту же задачу, но с помощью `Spark SQL`. В этом случае данные логически представимы в виде таблицы с типизированными колонками. Для того чтобы прочитать `CSV`-файл нужно указать типы колонок или попросить вывести их самостоятельно. Ниже три способа:"
   ]
  },
  {
   "cell_type": "code",
   "execution_count": 9,
   "metadata": {},
   "outputs": [
    {
     "name": "stdout",
     "output_type": "stream",
     "text": [
      "+----------+----+\n",
      "|      date|temp|\n",
      "+----------+----+\n",
      "|2008-01-01|   0|\n",
      "|2008-01-02|  -5|\n",
      "|2008-01-03| -11|\n",
      "|2008-01-04| -11|\n",
      "|2008-01-05| -12|\n",
      "|2008-01-06| -14|\n",
      "|2008-01-07|  -6|\n",
      "|2008-01-08|  -7|\n",
      "|2008-01-09|  -6|\n",
      "|2008-01-10|   0|\n",
      "+----------+----+\n",
      "only showing top 10 rows\n",
      "\n"
     ]
    }
   ],
   "source": [
    "from pyspark.sql.types import StructType, StructField, IntegerType, TimestampType, FloatType\n",
    "\n",
    "# 1. Вручную описываем схему\n",
    "schema= StructType([\n",
    "            StructField(\"date\", TimestampType(), False),\n",
    "            StructField(\"temp\", IntegerType(), False)]\n",
    "        )\n",
    "df = spark.read.csv(WEATHER_FILE, schema=schema)\n",
    "\n",
    "# 2. Для простоты можно передать её в виде строки\n",
    "df = spark.read.csv(WEATHER_FILE, schema='date Timestamp, temp INT')\n",
    "\n",
    "# 3. Можно вывести схему автоматически \n",
    "df = spark.read.csv(WEATHER_FILE, inferSchema=True).toDF('date', 'temp')\n",
    "\n",
    "df.show(10)"
   ]
  },
  {
   "cell_type": "code",
   "execution_count": 10,
   "metadata": {},
   "outputs": [],
   "source": [
    "from pyspark.sql.functions import udf, pandas_udf\n",
    "from typing import Iterator\n",
    "import pyspark.sql.functions as F\n",
    "\n",
    "import pandas as pd\n",
    "\n",
    "\n",
    "@pandas_udf(FloatType())\n",
    "def our_agg_udf(x: pd.Series) -> float:\n",
    "    return x.mean() + 2\n",
    "\n",
    "@udf(IntegerType())\n",
    "def our_udf_bad(x: int) -> int:\n",
    "    return 5 * x + 1\n",
    "\n",
    "@pandas_udf(IntegerType())\n",
    "def our_udf(chunks: Iterator[pd.Series]) -> Iterator[pd.Series]: \n",
    "    for chunk in chunks:  \n",
    "        yield 5 * chunk + 1\n",
    "\n",
    "df_res = df.repartition(2) \\\n",
    "           .select(F.year(df.date).alias(\"year\"), \"temp\") \\\n",
    "           .groupby(\"year\") \\\n",
    "           .agg(our_agg_udf(\"temp\").alias('year_avg')) "
   ]
  },
  {
   "cell_type": "markdown",
   "metadata": {},
   "source": [
    "Любые операции с вручную написанные на `Python`  будут неэффективны. Потом все действия над данными лучше описывать декларативно с помощью \"функций\" из пакета `pyspark.sql.functions`"
   ]
  },
  {
   "cell_type": "code",
   "execution_count": 11,
   "metadata": {},
   "outputs": [
    {
     "name": "stdout",
     "output_type": "stream",
     "text": [
      "+----+----+\n",
      "|year|temp|\n",
      "+----+----+\n",
      "|2008|  15|\n",
      "|2008|  17|\n",
      "|2008|  10|\n",
      "|2008|  16|\n",
      "|2008|  20|\n",
      "|2008|  20|\n",
      "|2008|  11|\n",
      "|2008|  17|\n",
      "|2008|  17|\n",
      "|2008|  13|\n",
      "+----+----+\n",
      "only showing top 10 rows\n",
      "\n"
     ]
    }
   ],
   "source": [
    "import pyspark.sql.functions as F\n",
    "             \n",
    "yt = df \\\n",
    "      .filter((F.month('date') >= 6) & (F.month('date') <= 8)) \\\n",
    "      .select(F.year('date').alias('year'), 'temp')\n",
    "\n",
    "# Можно использовать другой синтаксис \n",
    "#yt = df.filter((F.month(df['date']) >= 6) & (F.month(df['date']) <= 8)) \n",
    "#yt = df.filter((F.month(F.col('date')) >= 6) & (F.month(F.col('date')) <= 8)) \n",
    "\n",
    "yt.show(10)"
   ]
  },
  {
   "cell_type": "code",
   "execution_count": 12,
   "metadata": {},
   "outputs": [
    {
     "name": "stderr",
     "output_type": "stream",
     "text": [
      "[Stage 19:>                                                         (0 + 1) / 1]\r"
     ]
    },
    {
     "name": "stdout",
     "output_type": "stream",
     "text": [
      "+----+----+\n",
      "|year|temp|\n",
      "+----+----+\n",
      "|2008|   5|\n",
      "|2008|   7|\n",
      "|2008|   0|\n",
      "|2008|   6|\n",
      "|2008|  10|\n",
      "|2008|  10|\n",
      "|2008|   1|\n",
      "|2008|   7|\n",
      "|2008|   7|\n",
      "|2008|   3|\n",
      "+----+----+\n",
      "only showing top 10 rows\n",
      "\n"
     ]
    },
    {
     "name": "stderr",
     "output_type": "stream",
     "text": [
      "                                                                                \r"
     ]
    }
   ],
   "source": [
    "from typing import Iterable\n",
    "import pandas as pd\n",
    "\n",
    "def pandas_mapper(iterator: Iterable[pd.DataFrame]):\n",
    "    for pdf in iterator:\n",
    "        pdf[\"temp\"] -= 10\n",
    "        yield pdf\n",
    "\n",
    "yt.mapInPandas(pandas_mapper, yt.schema) \\\n",
    "  .show(10)"
   ]
  },
  {
   "cell_type": "code",
   "execution_count": 14,
   "metadata": {},
   "outputs": [
    {
     "data": {
      "text/html": [
       "<div>\n",
       "<style scoped>\n",
       "    .dataframe tbody tr th:only-of-type {\n",
       "        vertical-align: middle;\n",
       "    }\n",
       "\n",
       "    .dataframe tbody tr th {\n",
       "        vertical-align: top;\n",
       "    }\n",
       "\n",
       "    .dataframe thead th {\n",
       "        text-align: right;\n",
       "    }\n",
       "</style>\n",
       "<table border=\"1\" class=\"dataframe\">\n",
       "  <thead>\n",
       "    <tr style=\"text-align: right;\">\n",
       "      <th></th>\n",
       "      <th>year</th>\n",
       "      <th>temp</th>\n",
       "    </tr>\n",
       "  </thead>\n",
       "  <tbody>\n",
       "    <tr>\n",
       "      <th>459</th>\n",
       "      <td>2013</td>\n",
       "      <td>25</td>\n",
       "    </tr>\n",
       "    <tr>\n",
       "      <th>460</th>\n",
       "      <td>2013</td>\n",
       "      <td>28</td>\n",
       "    </tr>\n",
       "    <tr>\n",
       "      <th>461</th>\n",
       "      <td>2013</td>\n",
       "      <td>28</td>\n",
       "    </tr>\n",
       "    <tr>\n",
       "      <th>462</th>\n",
       "      <td>2013</td>\n",
       "      <td>28</td>\n",
       "    </tr>\n",
       "    <tr>\n",
       "      <th>463</th>\n",
       "      <td>2013</td>\n",
       "      <td>25</td>\n",
       "    </tr>\n",
       "  </tbody>\n",
       "</table>\n",
       "</div>"
      ],
      "text/plain": [
       "     year  temp\n",
       "459  2013    25\n",
       "460  2013    28\n",
       "461  2013    28\n",
       "462  2013    28\n",
       "463  2013    25"
      ]
     },
     "execution_count": 14,
     "metadata": {},
     "output_type": "execute_result"
    }
   ],
   "source": [
    "psdf = yt.pandas_api()\n",
    "psdf[psdf[\"year\"] == 2013].head()"
   ]
  },
  {
   "cell_type": "code",
   "execution_count": 15,
   "metadata": {},
   "outputs": [
    {
     "name": "stdout",
     "output_type": "stream",
     "text": [
      "+----+----+\n",
      "|year|temp|\n",
      "+----+----+\n",
      "|2010|  15|\n",
      "|2010|  31|\n",
      "|2013|  18|\n",
      "|2013|  24|\n",
      "|2015|  19|\n",
      "|2015|  19|\n",
      "|2014|  16|\n",
      "|2013|  21|\n",
      "|2016|  24|\n",
      "|2016|  18|\n",
      "|2014|  15|\n",
      "|2009|  21|\n",
      "|2010|  32|\n",
      "|2016|  14|\n",
      "|2011|  27|\n",
      "|2011|  16|\n",
      "|2016|  23|\n",
      "|2012|  21|\n",
      "|2010|  16|\n",
      "|2013|  20|\n",
      "+----+----+\n",
      "only showing top 20 rows\n",
      "\n"
     ]
    },
    {
     "name": "stderr",
     "output_type": "stream",
     "text": [
      "                                                                                \r"
     ]
    }
   ],
   "source": [
    "yt = yt.repartition(10)\n",
    "yt.cache()\n",
    "yt.show()"
   ]
  },
  {
   "cell_type": "code",
   "execution_count": 16,
   "metadata": {},
   "outputs": [
    {
     "name": "stdout",
     "output_type": "stream",
     "text": [
      "+----+------------------+\n",
      "|year|          avg_temp|\n",
      "+----+------------------+\n",
      "|2008|18.119565217391305|\n",
      "|2009| 18.72826086956522|\n",
      "|2010|22.119565217391305|\n",
      "|2011|21.318681318681318|\n",
      "|2012| 19.08695652173913|\n",
      "|2013|21.543478260869566|\n",
      "|2014|20.706521739130434|\n",
      "|2015|19.032608695652176|\n",
      "|2016| 19.32608695652174|\n",
      "+----+------------------+\n",
      "\n"
     ]
    }
   ],
   "source": [
    "yt.groupBy('year') \\\n",
    "  .agg(F.avg('temp').alias('avg_temp')) \\\n",
    "  .sort('year') \\\n",
    "  .show(10)"
   ]
  },
  {
   "cell_type": "markdown",
   "metadata": {},
   "source": [
    "`DataFrame` можно зарегестрировать в виде именованной сущности, в таком случае все эти действия мы можем выполнить с помощью `SQL` запроса:"
   ]
  },
  {
   "cell_type": "code",
   "execution_count": 17,
   "metadata": {},
   "outputs": [
    {
     "name": "stdout",
     "output_type": "stream",
     "text": [
      "+----+------------------+\n",
      "|   y|         avg(temp)|\n",
      "+----+------------------+\n",
      "|2008|18.119565217391305|\n",
      "|2009| 18.72826086956522|\n",
      "|2010|22.119565217391305|\n",
      "|2011|21.318681318681318|\n",
      "|2012| 19.08695652173913|\n",
      "|2013|21.543478260869566|\n",
      "|2014|20.706521739130434|\n",
      "|2015|19.032608695652176|\n",
      "|2016| 19.32608695652174|\n",
      "+----+------------------+\n",
      "\n"
     ]
    }
   ],
   "source": [
    "df.createOrReplaceTempView('weather')\n",
    "\n",
    "yt = spark.sql(\"\"\"SELECT year(date) as y, avg(temp) FROM weather \n",
    "                    WHERE month(date) > 5  and month(date) < 9 \n",
    "                    GROUP BY y \n",
    "                    ORDER BY y\"\"\")\n",
    "yt.show()"
   ]
  },
  {
   "cell_type": "markdown",
   "metadata": {},
   "source": [
    "Привидем ещё один пример - посчитаем разницу между температурой за конкретный день и средней температурой в этой месяц. \n",
    "\n",
    "Cоздадим `DataFrame` с полями `(year, month, avg_temp)`. Метод `select` открывает новый `DataFrame`, но с иными полями, вычисленными на основе существующих."
   ]
  },
  {
   "cell_type": "code",
   "execution_count": 18,
   "metadata": {},
   "outputs": [
    {
     "name": "stdout",
     "output_type": "stream",
     "text": [
      "+----+-----+--------------------+\n",
      "|year|month|           month_avg|\n",
      "+----+-----+--------------------+\n",
      "|2012|   10|    7.67741935483871|\n",
      "|2010|    7|   27.06451612903226|\n",
      "|2010|   12|  -7.935483870967742|\n",
      "|2015|    2|-0.21428571428571427|\n",
      "|2008|    8|  17.419354838709676|\n",
      "|2009|   11|  2.8333333333333335|\n",
      "|2014|    4|   8.766666666666667|\n",
      "|2015|   12|  2.3225806451612905|\n",
      "|2016|    7|  20.451612903225808|\n",
      "|2016|   11| -1.4333333333333333|\n",
      "+----+-----+--------------------+\n",
      "only showing top 10 rows\n",
      "\n"
     ]
    }
   ],
   "source": [
    "new_df = df.select(F.year('date').alias('year'), \n",
    "                   F.month('date').alias('month'), \n",
    "                   F.dayofmonth('date').alias('day'),\n",
    "                   'temp')\n",
    "\n",
    "ms = new_df \\\n",
    "       .groupby('year', 'month') \\\n",
    "       .agg(F.avg('temp').alias('month_avg'))\n",
    "\n",
    "ms.show(10)"
   ]
  },
  {
   "cell_type": "markdown",
   "metadata": {},
   "source": [
    "Дальше воспользуемся `join`, который похож на аналогичную операцию в `SQL`"
   ]
  },
  {
   "cell_type": "code",
   "execution_count": 19,
   "metadata": {},
   "outputs": [
    {
     "name": "stdout",
     "output_type": "stream",
     "text": [
      "+----+-----+---+----+-------------------+\n",
      "|year|month|day|temp|          month_avg|\n",
      "+----+-----+---+----+-------------------+\n",
      "|2008|    1|  1|   0|-1.6129032258064515|\n",
      "|2008|    1|  2|  -5|-1.6129032258064515|\n",
      "|2008|    1|  3| -11|-1.6129032258064515|\n",
      "|2008|    1|  4| -11|-1.6129032258064515|\n",
      "|2008|    1|  5| -12|-1.6129032258064515|\n",
      "|2008|    1|  6| -14|-1.6129032258064515|\n",
      "|2008|    1|  7|  -6|-1.6129032258064515|\n",
      "|2008|    1|  8|  -7|-1.6129032258064515|\n",
      "|2008|    1|  9|  -6|-1.6129032258064515|\n",
      "|2008|    1| 10|   0|-1.6129032258064515|\n",
      "+----+-----+---+----+-------------------+\n",
      "only showing top 10 rows\n",
      "\n"
     ]
    }
   ],
   "source": [
    "m_avg = new_df.join(ms, ['year', 'month'])\n",
    "\n",
    "m_avg.show(10)"
   ]
  },
  {
   "cell_type": "markdown",
   "metadata": {},
   "source": [
    "В итоге посчитаем разницу:"
   ]
  },
  {
   "cell_type": "code",
   "execution_count": 20,
   "metadata": {},
   "outputs": [
    {
     "name": "stdout",
     "output_type": "stream",
     "text": [
      "+----+-----+---+----+-------------------+------------------+\n",
      "|year|month|day|temp|          month_avg|              diff|\n",
      "+----+-----+---+----+-------------------+------------------+\n",
      "|2008|    1|  1|   0|-1.6129032258064515|1.6129032258064515|\n",
      "|2008|    1|  2|  -5|-1.6129032258064515|3.3870967741935485|\n",
      "|2008|    1|  3| -11|-1.6129032258064515| 9.387096774193548|\n",
      "|2008|    1|  4| -11|-1.6129032258064515| 9.387096774193548|\n",
      "|2008|    1|  5| -12|-1.6129032258064515|10.387096774193548|\n",
      "|2008|    1|  6| -14|-1.6129032258064515|12.387096774193548|\n",
      "|2008|    1|  7|  -6|-1.6129032258064515| 4.387096774193548|\n",
      "|2008|    1|  8|  -7|-1.6129032258064515| 5.387096774193548|\n",
      "|2008|    1|  9|  -6|-1.6129032258064515| 4.387096774193548|\n",
      "|2008|    1| 10|   0|-1.6129032258064515|1.6129032258064515|\n",
      "+----+-----+---+----+-------------------+------------------+\n",
      "only showing top 10 rows\n",
      "\n"
     ]
    }
   ],
   "source": [
    "m_avg.withColumn('diff', F.abs(m_avg['temp'] - m_avg['month_avg'])) \\\n",
    "     .show(10)"
   ]
  }
 ],
 "metadata": {
  "interpreter": {
   "hash": "31f2aee4e71d21fbe5cf8b01ff0e069b9275f58929596ceb00d14d90e3e16cd6"
  },
  "kernelspec": {
   "display_name": "Python 3.6.9 64-bit",
   "name": "python3"
  },
  "language_info": {
   "codemirror_mode": {
    "name": "ipython",
    "version": 3
   },
   "file_extension": ".py",
   "mimetype": "text/x-python",
   "name": "python",
   "nbconvert_exporter": "python",
   "pygments_lexer": "ipython3",
   "version": "3.10.12"
  }
 },
 "nbformat": 4,
 "nbformat_minor": 4
}
