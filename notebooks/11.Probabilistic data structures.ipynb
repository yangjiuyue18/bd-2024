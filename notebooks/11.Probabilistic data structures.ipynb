{
 "cells": [
  {
   "cell_type": "markdown",
   "metadata": {},
   "source": [
    "# HyperLogLog\n",
    "\n",
    "`HyperLogLog` -  вероятностный алгоритм для оценки уникальных элементов в больших наборах данных. Он обеспечивает более эффективное использование памяти по сравнению с точными методами, такими как подсчет уникальных элементов. Основная идея заключается в использовании хэш-функций для преобразования элементов в битовые строки и разделении их на группы по самым длинным последовательностям нулей. Затем используется оценочная функция для вычисления приблизительного количества уникальных элементов на основе длин этих последовательностей. Алгоритм `HyperLogLog` обеспечивает точность оценки с уровнем погрешности, который можно контролировать с помощью параметра b, который определяет количество бит для регистров."
   ]
  },
  {
   "cell_type": "code",
   "execution_count": 9,
   "metadata": {},
   "outputs": [],
   "source": [
    "import numpy as np\n",
    "\n",
    "from typing import Any\n",
    "\n",
    "\n",
    "class HyperLogLog:\n",
    "    def __init__(self, b: int):\n",
    "        self.m = b ** 2\n",
    "        self.b = b\n",
    "        self.registers = np.zeros(self.m) \n",
    "        self.alpha = self.calculate_alpha(self.m)\n",
    "\n",
    "    @staticmethod\n",
    "    def calculate_alpha(m: int) -> float:\n",
    "        if m == 16:\n",
    "            return 0.673\n",
    "        elif m == 32:\n",
    "            return 0.697\n",
    "        elif m == 64:\n",
    "            return 0.709\n",
    "        else:\n",
    "            return 0.7213 / (1 + 1.079 / m)\n",
    "\n",
    "    def add(self, element: Any):\n",
    "        hash_value = hash(element)\n",
    "        ## очень и очень неэффективно\n",
    "        hash_bin = format(hash_value, \"064b\")\n",
    "\n",
    "        reg_index = int(hash_bin[:self.b], 2)\n",
    "\n",
    "        leading_zeros = hash_bin[self.b:].index('1') + 1\n",
    "        self.registers[reg_index] = max(self.registers[reg_index], leading_zeros)\n",
    "\n",
    "    def count(self) -> int:\n",
    "        total = (2 ** (-self.registers)).sum()\n",
    "        estimate = self.alpha * (self.m ** 2) / total\n",
    "\n",
    "        # Bias correction\n",
    "        if estimate <= 5/2 * self.m:\n",
    "            zeros_count = (self.registers == 0).sum()\n",
    "            if zeros_count != 0:\n",
    "                corrected_estimate = self.m * np.log(self.m / zeros_count)\n",
    "                return int(corrected_estimate)\n",
    "        \n",
    "        return int(estimate)"
   ]
  },
  {
   "cell_type": "code",
   "execution_count": 13,
   "metadata": {},
   "outputs": [
    {
     "data": {
      "text/plain": [
       "3"
      ]
     },
     "execution_count": 13,
     "metadata": {},
     "output_type": "execute_result"
    }
   ],
   "source": [
    "import random\n",
    "\n",
    "hll = HyperLogLog(5)\n",
    "elements = random.choices([\n",
    "    \"apple\", \"orange\", \"raspberry\"], \n",
    "    k=10000\n",
    ")\n",
    "for x in elements:\n",
    "    hll.add(x)\n",
    "\n",
    "hll.count()"
   ]
  },
  {
   "cell_type": "markdown",
   "metadata": {},
   "source": [
    "# BloomFilter\n",
    "\n",
    "`BloomFilter` - это вероятностная структура данных, используемая для эффективного определения наличия элемента в множестве. Она состоит из битового массива определённого размера и нескольких хэш-функций. При добавлении элемента в фильтр, элемент хэшируется несколькими функциями, и биты в соответствующих позициях массива устанавливаются в 1. При проверке наличия элемента, элемент снова хэшируется этими функциями, и если все соответствующие биты установлены в 1, элемент вероятно присутствует в фильтре. Cуществует вероятность ложноположительных ответов."
   ]
  },
  {
   "cell_type": "code",
   "execution_count": 23,
   "metadata": {},
   "outputs": [
    {
     "data": {
      "text/plain": [
       "(False, True)"
      ]
     },
     "execution_count": 23,
     "metadata": {},
     "output_type": "execute_result"
    }
   ],
   "source": [
    "import numpy as np\n",
    "from typing import Callable, List, Any\n",
    "\n",
    "class BloomFilter:\n",
    "    def __init__(self, num_buckets: int, hash_functions: List[Callable[[Any], int]]):\n",
    "        self.num_buckets = num_buckets\n",
    "        self.hash_functions = hash_functions\n",
    "        self.bit_array = np.zeros(num_buckets)\n",
    "\n",
    "    def add(self, item: Any):\n",
    "        for hf in self.hash_functions:\n",
    "            index = hf(item) % self.num_buckets\n",
    "            self.bit_array[index] = 1\n",
    "\n",
    "    def __contains__(self, item: Any) -> bool:\n",
    "        for hf in self.hash_functions:\n",
    "            index = hf(item) % self.num_buckets\n",
    "            if self.bit_array[index] == 0:\n",
    "                return False\n",
    "        return True\n",
    "\n",
    "hash_functions = [\n",
    "    # очень плохие функции\n",
    "    lambda x: hash(x) * 7,\n",
    "    lambda x: hash(str(x)) * 11\n",
    "]\n",
    "\n",
    "\n",
    "bf = BloomFilter(20, hash_functions)\n",
    "\n",
    "lst = [\"apple\", \"orange\", \"raspberry\"]\n",
    "for x in lst:\n",
    "    bf.add(x)\n",
    "\n",
    "print(\"test\" in bf)\n",
    "print(\"orange\" in bf)\n"
   ]
  }
 ],
 "metadata": {
  "kernelspec": {
   "display_name": "venv_bd",
   "language": "python",
   "name": "python3"
  },
  "language_info": {
   "codemirror_mode": {
    "name": "ipython",
    "version": 3
   },
   "file_extension": ".py",
   "mimetype": "text/x-python",
   "name": "python",
   "nbconvert_exporter": "python",
   "pygments_lexer": "ipython3",
   "version": "3.10.12"
  }
 },
 "nbformat": 4,
 "nbformat_minor": 2
}
