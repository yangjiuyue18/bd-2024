{
 "cells": [
  {
   "cell_type": "markdown",
   "metadata": {},
   "source": [
    "# Apache Zookeeper\n",
    "\n",
    "Координационный сервис для распределенных приложений. Логически представляет из себя двевовидную структуру, наподобие файловой системы, к каждому узлу которой можно присвоить значение. \n",
    "\n",
    "Запускаем его в `Docker` вместе с `Kafka`:\n",
    "```bash\n",
    "docker run --rm -p 2181:2181 zookeeper:3.7.0\n",
    "```"
   ]
  },
  {
   "cell_type": "markdown",
   "metadata": {},
   "source": [
    "### Подключение"
   ]
  },
  {
   "cell_type": "code",
   "execution_count": 3,
   "metadata": {},
   "outputs": [],
   "source": [
    "from kazoo.client import KazooClient\n",
    "\n",
    "zk = KazooClient(hosts='127.0.0.1:2181')\n",
    "zk.start()"
   ]
  },
  {
   "cell_type": "markdown",
   "metadata": {},
   "source": [
    "### Создание элемента"
   ]
  },
  {
   "cell_type": "code",
   "execution_count": 4,
   "metadata": {},
   "outputs": [
    {
     "data": {
      "text/plain": [
       "ZnodeStat(czxid=3, mzxid=4, ctime=1714081276621, mtime=1714081276631, version=1, cversion=0, aversion=0, ephemeralOwner=0, dataLength=5, numChildren=0, pzxid=3)"
      ]
     },
     "execution_count": 4,
     "metadata": {},
     "output_type": "execute_result"
    }
   ],
   "source": [
    "zk.ensure_path('/node/a')\n",
    "zk.set('/node/a', b'hello')"
   ]
  },
  {
   "cell_type": "code",
   "execution_count": 5,
   "metadata": {},
   "outputs": [
    {
     "data": {
      "text/plain": [
       "ZnodeStat(czxid=6, mzxid=7, ctime=1714081278940, mtime=1714081278951, version=1, cversion=0, aversion=0, ephemeralOwner=0, dataLength=11, numChildren=0, pzxid=6)"
      ]
     },
     "execution_count": 5,
     "metadata": {},
     "output_type": "execute_result"
    }
   ],
   "source": [
    "zk.ensure_path('/database2/host')\n",
    "zk.set('/database2/host', b'192.168.1.2')"
   ]
  },
  {
   "cell_type": "code",
   "execution_count": 6,
   "metadata": {},
   "outputs": [
    {
     "data": {
      "text/plain": [
       "(b'192.168.1.2',\n",
       " ZnodeStat(czxid=6, mzxid=7, ctime=1714081278940, mtime=1714081278951, version=1, cversion=0, aversion=0, ephemeralOwner=0, dataLength=11, numChildren=0, pzxid=6))"
      ]
     },
     "execution_count": 6,
     "metadata": {},
     "output_type": "execute_result"
    }
   ],
   "source": [
    "zk.get('/database2/host')"
   ]
  },
  {
   "cell_type": "markdown",
   "metadata": {},
   "source": [
    "можно иначе"
   ]
  },
  {
   "cell_type": "code",
   "execution_count": 7,
   "metadata": {},
   "outputs": [
    {
     "data": {
      "text/plain": [
       "'/node/b'"
      ]
     },
     "execution_count": 7,
     "metadata": {},
     "output_type": "execute_result"
    }
   ],
   "source": [
    "zk.create('/node/b', b'hello2')"
   ]
  },
  {
   "cell_type": "markdown",
   "metadata": {},
   "source": [
    "### Отслеживание изменений"
   ]
  },
  {
   "cell_type": "code",
   "execution_count": 8,
   "metadata": {},
   "outputs": [
    {
     "name": "stdout",
     "output_type": "stream",
     "text": [
      "Event detected:  WatchedEvent(type='CHANGED', state='CONNECTED', path='/node/a')\n"
     ]
    },
    {
     "data": {
      "text/plain": [
       "ZnodeStat(czxid=3, mzxid=10, ctime=1714081276621, mtime=1714081285987, version=2, cversion=0, aversion=0, ephemeralOwner=0, dataLength=6, numChildren=0, pzxid=3)"
      ]
     },
     "execution_count": 8,
     "metadata": {},
     "output_type": "execute_result"
    }
   ],
   "source": [
    "def callback(p):    \n",
    "    print('Event detected: ', p)\n",
    "    \n",
    "zk.get('/node/a', callback)\n",
    "zk.set('/node/a', b'hello2')"
   ]
  },
  {
   "cell_type": "markdown",
   "metadata": {},
   "source": [
    "### Транзакции"
   ]
  },
  {
   "cell_type": "code",
   "execution_count": 9,
   "metadata": {},
   "outputs": [
    {
     "data": {
      "text/plain": [
       "(b'c value',\n",
       " ZnodeStat(czxid=11, mzxid=11, ctime=1714081288200, mtime=1714081288200, version=0, cversion=0, aversion=0, ephemeralOwner=0, dataLength=7, numChildren=0, pzxid=11))"
      ]
     },
     "execution_count": 9,
     "metadata": {},
     "output_type": "execute_result"
    }
   ],
   "source": [
    "with zk.transaction() as t:\n",
    "    t.create('/node/c', b'c value')\n",
    "    t.create('/node/d', b'd value')\n",
    "zk.get('/node/c')    "
   ]
  },
  {
   "cell_type": "markdown",
   "metadata": {},
   "source": [
    "### Блокировки"
   ]
  },
  {
   "cell_type": "code",
   "execution_count": 10,
   "metadata": {},
   "outputs": [
    {
     "name": "stdout",
     "output_type": "stream",
     "text": [
      "Thread #0 lock\n",
      "Thread #0 unlock\n",
      "Thread #1 lock\n",
      "Thread #1 unlock\n",
      "Thread #2 lock\n",
      "Thread #2 unlock\n"
     ]
    }
   ],
   "source": [
    "import threading\n",
    "import time\n",
    "\n",
    "def thread_func(num):\n",
    "    with zk.Lock('/node/a') as lock:\n",
    "        print('Thread #{} lock'.format(num))\n",
    "        zk.ensure_path('/node/a/c')\n",
    "        zk.set('/node/a/c', b'hello')\n",
    "        time.sleep(2)\n",
    "        print('Thread #{} unlock'.format(num))\n",
    "\n",
    "for i in range(3):\n",
    "    threading.Thread(target=thread_func, args=(i,)).start()"
   ]
  },
  {
   "cell_type": "markdown",
   "metadata": {},
   "source": [
    "### Election"
   ]
  },
  {
   "cell_type": "code",
   "execution_count": 11,
   "metadata": {},
   "outputs": [
    {
     "name": "stdout",
     "output_type": "stream",
     "text": [
      "Election won: 0\n",
      "Election won: 1\n",
      "Election won: 2\n"
     ]
    }
   ],
   "source": [
    "def thread_func(num):\n",
    "    election = zk.Election(\"/node\")\n",
    "    \n",
    "    def election_func():\n",
    "        print('Election won: {}'.format(num))\n",
    "    \n",
    "    election.run(election_func)\n",
    "\n",
    "\n",
    "for i in range(3):\n",
    "    threading.Thread(target=thread_func, args=(i,)).start()"
   ]
  },
  {
   "cell_type": "markdown",
   "metadata": {},
   "source": [
    "### Очереди"
   ]
  },
  {
   "cell_type": "code",
   "execution_count": 12,
   "metadata": {},
   "outputs": [],
   "source": [
    "if zk.exists('/queue'):\n",
    "    zk.delete('/queue', recursive=True)\n",
    "    \n",
    "q = zk.Queue('/queue')\n",
    "q.put(b'1', 10)\n",
    "q.put(b'2', 0)"
   ]
  },
  {
   "cell_type": "code",
   "execution_count": 13,
   "metadata": {},
   "outputs": [
    {
     "data": {
      "text/plain": [
       "b'2'"
      ]
     },
     "execution_count": 13,
     "metadata": {},
     "output_type": "execute_result"
    }
   ],
   "source": [
    "q.get()"
   ]
  },
  {
   "cell_type": "markdown",
   "metadata": {},
   "source": [
    "### Счетчики"
   ]
  },
  {
   "cell_type": "code",
   "execution_count": 14,
   "metadata": {},
   "outputs": [
    {
     "data": {
      "text/plain": [
       "15"
      ]
     },
     "execution_count": 14,
     "metadata": {},
     "output_type": "execute_result"
    }
   ],
   "source": [
    "if zk.exists('/counter'):\n",
    "    zk.delete('/counter', recursive=True)\n",
    "    \n",
    "counter = zk.Counter('/counter')\n",
    "counter += 20\n",
    "counter -= 5\n",
    "counter.value"
   ]
  },
  {
   "cell_type": "code",
   "execution_count": 15,
   "metadata": {},
   "outputs": [],
   "source": [
    "counter += 100"
   ]
  },
  {
   "cell_type": "code",
   "execution_count": null,
   "metadata": {},
   "outputs": [
    {
     "data": {
      "text/plain": [
       "(b'115',\n",
       " ZnodeStat(czxid=32, mzxid=35, ctime=1714081303031, mtime=1714081305539, version=3, cversion=0, aversion=0, ephemeralOwner=0, dataLength=3, numChildren=0, pzxid=32))"
      ]
     },
     "execution_count": 16,
     "metadata": {},
     "output_type": "execute_result"
    },
    {
     "name": "stderr",
     "output_type": "stream",
     "text": [
      "Connection dropped: socket connection broken\n",
      "Connection dropped: socket connection broken\n",
      "Transition to CONNECTING\n",
      "Transition to CONNECTING\n",
      "Connection dropped: socket connection error: Connection reset by peer\n",
      "Connection dropped: socket connection error: Connection reset by peer\n",
      "Connection dropped: socket connection error: Connection refused\n",
      "Connection dropped: socket connection error: Connection refused\n",
      "Connection dropped: socket connection error: Connection refused\n",
      "Connection dropped: socket connection error: Connection refused\n",
      "Connection dropped: socket connection error: Connection refused\n",
      "Connection dropped: socket connection error: Connection refused\n",
      "Connection dropped: socket connection error: Connection refused\n",
      "Connection dropped: socket connection error: Connection refused\n",
      "Connection dropped: socket connection error: Connection refused\n",
      "Connection dropped: socket connection error: Connection refused\n",
      "Connection dropped: socket connection error: Connection refused\n",
      "Connection dropped: socket connection error: Connection refused\n"
     ]
    }
   ],
   "source": [
    "zk.get('/counter')"
   ]
  },
  {
   "cell_type": "code",
   "execution_count": null,
   "metadata": {},
   "outputs": [],
   "source": []
  }
 ],
 "metadata": {
  "kernelspec": {
   "display_name": "Python 3",
   "language": "python",
   "name": "python3"
  },
  "language_info": {
   "codemirror_mode": {
    "name": "ipython",
    "version": 3
   },
   "file_extension": ".py",
   "mimetype": "text/x-python",
   "name": "python",
   "nbconvert_exporter": "python",
   "pygments_lexer": "ipython3",
   "version": "3.11.4"
  }
 },
 "nbformat": 4,
 "nbformat_minor": 4
}
