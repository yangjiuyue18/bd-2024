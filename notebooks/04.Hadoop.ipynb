{
 "cells": [
  {
   "cell_type": "code",
   "execution_count": 26,
   "metadata": {},
   "outputs": [],
   "source": [
    "from mrjob.job import MRJob\n",
    "from mrjob.protocol import TextProtocol\n",
    "import re\n",
    "\n",
    "WORD_RE = re.compile(r\"[\\w']+\")\n",
    "\n",
    "\n",
    "class MRWordFreqCount(MRJob):\n",
    "    OUTPUT_PROTOCOL = TextProtocol\n",
    "    \n",
    "    def mapper(self, _, line):                \n",
    "        for word in WORD_RE.findall(line):           \n",
    "            word = word.lower()\n",
    "            self.increment_counter(\"group\", \"first_letter_\" + word[0], 1)\n",
    "            yield (word, 1)\n",
    "\n",
    "    def combiner(self, word, counts):\n",
    "        yield word, sum(counts)\n",
    "\n",
    "    def reducer(self, word, counts):\n",
    "        yield word, str(sum(counts))\n",
    "        "
   ]
  },
  {
   "cell_type": "code",
   "execution_count": 6,
   "metadata": {},
   "outputs": [
    {
     "data": {
      "text/plain": [
       "[('world', 3)]"
      ]
     },
     "execution_count": 6,
     "metadata": {},
     "output_type": "execute_result"
    }
   ],
   "source": [
    "from functools import reduce\n",
    "from typing import Iterable, Tuple\n",
    "\n",
    "lst = [\"hello world\", \"привет мир\", \"hello hello world\"]\n",
    "\n",
    "# \"hello\" -> 3\n",
    "# \"world\" -> 2\n",
    "\n",
    "def our_map(k: str, v: str) -> Iterable[Tuple[str, int]]:\n",
    "    words = v.split(\" \")\n",
    "\n",
    "    for word in words:  \n",
    "        yield (word, 1)\n",
    "\n",
    "\n",
    "def our_reduce(k: str, values: Iterable[int]) -> Iterable[Tuple[str, int]]:\n",
    "    s = 0\n",
    "    for v in values:\n",
    "        s += v\n",
    "    yield (k, s) \n",
    "\n",
    "\n",
    "\n",
    "list(our_map(\"\", \"hello world\"))\n",
    "list(our_reduce(\"world\", [1, 1, 1]))\n"
   ]
  },
  {
   "cell_type": "markdown",
   "metadata": {},
   "source": [
    "# Hadoop\n",
    "\n",
    "Начиная с версии 2.0 `Hadoop` - обычное `YARN`-приложение. В контейнерах запускают задачи для выполнения операций *map* и *reduce*."
   ]
  },
  {
   "cell_type": "markdown",
   "metadata": {},
   "source": [
    "### Основные особенности\n",
    "\n",
    "- парадигма MapReduce\n",
    "- системы мониторинга за состоянием задач\n",
    "- не требует использования сложных механизмов синхронизации\n",
    "- Data Locality"
   ]
  },
  {
   "attachments": {},
   "cell_type": "markdown",
   "metadata": {},
   "source": [
    "![MapReduce](../img/mr_diag.svg)"
   ]
  },
  {
   "cell_type": "markdown",
   "metadata": {},
   "source": [
    "### Терминология\n",
    "\n",
    "**Job** - запуск MapReduce на конктретной задачи\n",
    "\n",
    "**Task** - запуск какой-то подзачади (map или reduce) на каком-то определенном куске данных\n",
    "\n",
    "**Task Attempt** - попытка запуска **Task**. Hadoop может запускать одну задачу на выполнение несколько раз. Это происходит если предыдущая попытка не увенчалась успехом или медленно работает (speculative execution)."
   ]
  },
  {
   "cell_type": "markdown",
   "metadata": {},
   "source": [
    "#### InputFormat\n",
    "\n",
    "`InputFormat` - то, как должны интерпретироваться данные во входном файле, перед тем, как они попадут в Mapper, которому нужны пары ключ-значения. По умолчанию используется `TextInputFormat`, который интерпретирует входной файл как текстовый файл."
   ]
  },
  {
   "cell_type": "markdown",
   "metadata": {},
   "source": [
    "#### OutputFormat\n",
    "\n",
    "`Outputformat` - то, как пары ключ-значения после работы Reducer'a должны записываться на `HDFS` (на самом деле не обязательно на `HDFS`).  По умолчанию используется `TextOutputFormat`, который записывает пары ключ-значения в текстовом виде. "
   ]
  },
  {
   "cell_type": "code",
   "execution_count": null,
   "metadata": {},
   "outputs": [],
   "source": []
  }
 ],
 "metadata": {
  "kernelspec": {
   "display_name": "Python 3.10.4 64-bit",
   "language": "python",
   "name": "python3"
  },
  "language_info": {
   "codemirror_mode": {
    "name": "ipython",
    "version": 3
   },
   "file_extension": ".py",
   "mimetype": "text/x-python",
   "name": "python",
   "nbconvert_exporter": "python",
   "pygments_lexer": "ipython3",
   "version": "3.10.6"
  },
  "vscode": {
   "interpreter": {
    "hash": "916dbcbb3f70747c44a77c7bcd40155683ae19c65e1c03b4aa3499c5328201f1"
   }
  }
 },
 "nbformat": 4,
 "nbformat_minor": 4
}
