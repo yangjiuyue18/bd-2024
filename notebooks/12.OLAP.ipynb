{
 "cells": [
  {
   "attachments": {},
   "cell_type": "markdown",
   "metadata": {},
   "source": [
    "# OLAP и OLTP\n",
    "\n",
    "Системы управления базами данных можно условно разделить на классы по решаемым задачам:\n",
    "- OLAP (Online Analytical Processing)\n",
    "- OLTP (Online Transactional Processing)\n",
    "- HTAP (Hybrid transactional/analytical processing)\n",
    "\n",
    "Разделение не четкое, системы могут тяготеть в одну или другую сторону, но в любом случае их архитектура зависит от области применения:\n",
    "\n",
    "*OLAP* - системы для выполнения аналитических запросов на больших объемах данных. Поддержка транзакций минимальна, данные неизменяемы или запросы на изменение данных ограничены и неэффективны. Табличные данные чаще всего хранятся по **колонкам**. Пример: анализ транзакций по карточкам клиентов банка, построение аналитики, предложение продуктов, генерация выписок по счетам. \n",
    "\n",
    "*OLTP* - системы для параллельных манипуляций с данными в реальном времени. Поддерживает транзакции, быструю вставку и изменение данных, безопасность и резервное копирование. Аналитические запросы могут быть неэффективными. Транзакции должны быть короткими. Пример - хранение профилей пользователей на веб-сайте. \n",
    "\n",
    "*HTAP* - гибридные транзакционную/аналитические системы обработки данных. Это подход, который позволяет одновременно выполнять операции \n",
    "транзакционной обработки (например, вставку, обновление, удаление данных) и аналитические запросы (например, агрегирование, анализ) на \n",
    "одной и той же базе данных в реальном времени."
   ]
  },
  {
   "attachments": {},
   "cell_type": "markdown",
   "metadata": {},
   "source": [
    "Примеры OLAP/HTAP систем: \n",
    "\n",
    "`ClickHouse`, `TiDb`, `Vertica`, `Greenplum`,\n",
    "\n",
    "`Presto`, `Apache Spark` (post-Hadoop)\n",
    "\n",
    "`DuckDB` (in-process)"
   ]
  },
  {
   "cell_type": "code",
   "execution_count": null,
   "metadata": {},
   "outputs": [],
   "source": [
    "import sqlalchemy\n",
    "from sqlalchemy import text\n",
    "\n",
    "engine = sqlalchemy.create_engine(\n",
    "    \"sqlite:///:memory:\"\n",
    ")\n",
    "\n",
    "with engine.begin() as conn:\n",
    "    conn.execute(\n",
    "        text(\n",
    "        \"\"\"\n",
    "            CREATE TABLE IF NOT EXISTS my_table(\n",
    "                name VARCHAR(40),\n",
    "                age INT\n",
    "            );\n",
    "        \"\"\"\n",
    "        )\n",
    "    )\n",
    "    with engine.begin() as tx:\n",
    "        tx.execute(\n",
    "            text(\"INSERT INTO my_table (name, age) VALUES ('Ivan', '25');\")\n",
    "        )\n",
    "\n",
    "        tx.execute(\"SELECT * FROM my_table;\")\n",
    "\n",
    "        tx.execute(\n",
    "            text(\"INSERT INTO my_table (name, age) VALUES ('Petr', '35');\")\n",
    "        )\n",
    "\n",
    "        tx.rollback()"
   ]
  }
 ],
 "metadata": {
  "kernelspec": {
   "display_name": "venv_bd",
   "language": "python",
   "name": "python3"
  },
  "language_info": {
   "codemirror_mode": {
    "name": "ipython",
    "version": 3
   },
   "file_extension": ".py",
   "mimetype": "text/x-python",
   "name": "python",
   "nbconvert_exporter": "python",
   "pygments_lexer": "ipython3",
   "version": "3.10.12"
  },
  "orig_nbformat": 4
 },
 "nbformat": 4,
 "nbformat_minor": 2
}
