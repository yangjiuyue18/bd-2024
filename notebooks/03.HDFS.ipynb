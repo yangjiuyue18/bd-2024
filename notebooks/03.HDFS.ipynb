{
 "cells": [
  {
   "cell_type": "markdown",
   "metadata": {},
   "source": [
    "# HDFS\n",
    "\n",
    "Hadoop Distributed File System - распределенная файловая система. Запускалась на кластере ~ 4000 машин. \n",
    "- устойчива к падениям\n",
    "- масштабируема \n",
    "- безопасность (права доступа и т.д.)\n",
    "- написана на Java\n",
    "- концепция основана на Google GFS\n",
    "- на узлах кластера используются нативные файловые системы\n"
   ]
  },
  {
   "cell_type": "markdown",
   "metadata": {},
   "source": [
    "Узлы бывают двух видов:\n",
    "- `NameNode` - хранение метаинформации\n",
    "- `DataNode` - хранение данных\n",
    "\n",
    "Бывает `Secondary NameNode`."
   ]
  },
  {
   "cell_type": "markdown",
   "metadata": {
    "slideshow": {
     "slide_type": "slide"
    }
   },
   "source": [
    "В целом процесс получения/записи данных выглядит так:\n",
    "1. Клиент обращается к `NameNode`\n",
    "2. Клиент перенаправляется к соответствующему `DataNone` для  чтения/записи данных. \n",
    "\n",
    "\n",
    "![HDFS Architecture](https://hadoop.apache.org/docs/stable/hadoop-project-dist/hadoop-hdfs/images/hdfsarchitecture.png)"
   ]
  },
  {
   "cell_type": "markdown",
   "metadata": {},
   "source": [
    "Данные реплицируются, `NameNode` постоянно общается с `DataNode` и отслеживает их состояние, перераспределяет данные. `DataNode` могут обмениваться данными напрямую.\n",
    "\n",
    "![](https://hadoop.apache.org/docs/r1.2.1/images/hdfsdatanodes.gif)"
   ]
  },
  {
   "cell_type": "markdown",
   "metadata": {},
   "source": [
    "Логически HDFS представляет из себя привычную иерархическую файловую систему. \n",
    "\n",
    "- файлы делятся на блоки (по умолячанию 128Мб)\n",
    "- каждый блок файла копируется по узлам сети (по умолчанию на 3 уззла)\n",
    "- `NameNode` отслеживает каждый состояние узлов\n",
    "- если узел стал недоступен, то блок автоматически до-реплицируется"
   ]
  },
  {
   "cell_type": "markdown",
   "metadata": {},
   "source": [
    "# Коммандная строка\n",
    "\n",
    "Для того, чтобы положить файл на `HDFS` с помощью командной строки, сделаем следующее:\n",
    "#### 1. Запустим `bash` в контексте котейнера:\n",
    "\n",
    "```bash\n",
    "    docker exec -it hadoop-sandbox bash\n",
    "```\n",
    "\n",
    "#### 2. Посмотрим на соджержимое \"домашней\" директории:\n",
    "```bash\n",
    "    hadoop fs -ls /user/root\n",
    "```    \n",
    "\n",
    "### 3. Скопируем файл из локальной файловой системы на `HDFS`\n",
    "```bash\n",
    "    hadoop fs -put /course/data/weather.csv /user/root\n",
    "```  \n",
    "\n",
    "### 4. Проверим\n",
    "```bash\n",
    "    hadoop fs -ls /user/root\n",
    "``` \n",
    "\n",
    "#### 5. Посмотрим содержимое текстового файла\n",
    "```bash\n",
    "    hadoop fs -cat /user/root/weather.csv\n",
    "``` \n",
    "\n",
    "#### 6. Скопируем файл из `HDFS` на локальную файловую систему\n",
    "```bash\n",
    "    hadoop fs -get /user/root/weather.csv weather2.csv\n",
    "``` \n",
    "\n",
    "#### 7. Удалим файл на `HDFS`\n",
    "```bash\n",
    "    hadoop fs -rm /user/root/weather.csv \n",
    "``` "
   ]
  },
  {
   "cell_type": "markdown",
   "metadata": {},
   "source": [
    "# Python API\n",
    "\n",
    "HDFS представляет REST HTTP API, для которого есть клиенты, например, из `Python`"
   ]
  },
  {
   "cell_type": "code",
   "execution_count": null,
   "metadata": {},
   "outputs": [],
   "source": [
    "import hdfs\n",
    "\n",
    "http_fs = hdfs.InsecureClient('http://localhost:14000', user='root')\n",
    "\n",
    "with http_fs.write('lines.txt', encoding='utf-8') as w:\n",
    "    for i in range(200):\n",
    "        w.write(str(i))\n",
    "        w.write('\\n')"
   ]
  },
  {
   "cell_type": "code",
   "execution_count": 2,
   "metadata": {},
   "outputs": [
    {
     "data": {
      "text/plain": [
       "True"
      ]
     },
     "execution_count": 2,
     "metadata": {},
     "output_type": "execute_result"
    }
   ],
   "source": [
    "http_fs.delete('lines.txt')"
   ]
  },
  {
   "cell_type": "code",
   "execution_count": null,
   "metadata": {},
   "outputs": [],
   "source": [
    "http_fs.upload('weather.csv', 'data/weather.csv')"
   ]
  },
  {
   "cell_type": "code",
   "execution_count": null,
   "metadata": {},
   "outputs": [],
   "source": [
    "http_fs.delete('weather.csv')"
   ]
  }
 ],
 "metadata": {
  "kernelspec": {
   "display_name": "Python 3.10.4 64-bit",
   "language": "python",
   "name": "python3"
  },
  "language_info": {
   "codemirror_mode": {
    "name": "ipython",
    "version": 3
   },
   "file_extension": ".py",
   "mimetype": "text/x-python",
   "name": "python",
   "nbconvert_exporter": "python",
   "pygments_lexer": "ipython3",
   "version": "3.10.4"
  },
  "vscode": {
   "interpreter": {
    "hash": "916dbcbb3f70747c44a77c7bcd40155683ae19c65e1c03b4aa3499c5328201f1"
   }
  }
 },
 "nbformat": 4,
 "nbformat_minor": 4
}
