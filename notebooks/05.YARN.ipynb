{
 "cells": [
  {
   "cell_type": "markdown",
   "metadata": {},
   "source": [
    "# YARN\n",
    "\n",
    "`YARN` - Yet Another Resource Negotiator. \n",
    "\n",
    "Система управления ресурсами. У нас есть большой кластер и нам нужно запускать на нём какие-то задачи, выделяя каждой задаче необходимые ресурсы, наблюдаа за её состоянием и т.д.\n",
    "\n",
    "- `YARN` написан на Java\n",
    "- приложения, которые взаимодействуют с `YARN`, тоже пишутся на Java\n",
    "- `YARN` может взаимодействовать с `HDFS`"
   ]
  },
  {
   "cell_type": "markdown",
   "metadata": {},
   "source": [
    "![](https://hadoop.apache.org/docs/current/hadoop-yarn/hadoop-yarn-site/yarn_architecture.gif)"
   ]
  },
  {
   "cell_type": "markdown",
   "metadata": {},
   "source": [
    "`Resource Manager` - машина, которая управляет ресурсами кластера. Кластер имеет только однин основом RM\n",
    "\n",
    "`Node Manager` - узлы, которые отвечают за запуск задач и приложени. \n",
    "\n",
    "Кластер может иметь несколько тысяч `Node Manager`. `Node Manager` запускают задачи и приложения, мониторят ресурсы, шлют отчеты для `Resource Manager`.\n",
    "\n",
    "- `YARN` может использоваться не только для запуска Hadoop, а также для управления любыми распределенными приложениями\n",
    "- `YARN` может взаимодействовать с `HDFS`\n",
    "- `YARN` - это универсальная система управления ресурсами. На нем может запускаться, например, `Spark`"
   ]
  },
  {
   "cell_type": "markdown",
   "metadata": {},
   "source": [
    "### Схема взаимодействия компонентов:\n",
    "1. Клиент инициирует запуск приложения и обращается к `Resource Manager`\n",
    "2. `Resource Manager` на одном из кластера выделяет необходимые ресурсы для запуска контейнера с приложением. Это приложение называется `Application Master`.\n",
    "3. `Application Master` запускается и дальше через `Resource Manager` может слать запросы на выделение ресурсов на остальных узлах кластера (с определенным количеством доступной памяти, числа ядер и так далее)."
   ]
  },
  {
   "attachments": {},
   "cell_type": "markdown",
   "metadata": {},
   "source": [
    "### Особенности \n",
    "- для запуска контейнеров `Node Manager` используют специфичные для операционной системы средства\n",
    "- ресурсов на всех может не хватить - используется планировщик, запросы ставятся в очередь по приорирету\n",
    "- логика планировщика может настраиваться\n",
    "- `NM`, `RM` имеют Web UI, с помощью которого можно просматривать логи, следить за задачами и т.п."
   ]
  },
  {
   "cell_type": "code",
   "execution_count": null,
   "metadata": {},
   "outputs": [],
   "source": []
  }
 ],
 "metadata": {
  "kernelspec": {
   "display_name": "Python 3.10.4 64-bit",
   "language": "python",
   "name": "python3"
  },
  "language_info": {
   "codemirror_mode": {
    "name": "ipython",
    "version": 3
   },
   "file_extension": ".py",
   "mimetype": "text/x-python",
   "name": "python",
   "nbconvert_exporter": "python",
   "pygments_lexer": "ipython3",
   "version": "3.10.4"
  },
  "vscode": {
   "interpreter": {
    "hash": "916dbcbb3f70747c44a77c7bcd40155683ae19c65e1c03b4aa3499c5328201f1"
   }
  }
 },
 "nbformat": 4,
 "nbformat_minor": 4
}
