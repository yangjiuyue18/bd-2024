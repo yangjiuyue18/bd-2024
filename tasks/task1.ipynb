{
 "cells": [
  {
   "cell_type": "code",
   "execution_count": 1,
   "metadata": {},
   "outputs": [],
   "source": [
    "import random\n",
    "import struct\n",
    "\n",
    "def generate_random_big_endian():\n",
    "    # 生成一个随机的32位无符号整数\n",
    "    num = random.randint(0, 2**32 - 1)\n",
    "    # 将这个数转换为大端序的二进制形式\n",
    "    return struct.pack('>I', num)\n",
    "\n",
    "# 创建一个大文件\n",
    "with open('big_file.bin', 'wb') as f:\n",
    "    for _ in range(2 * 1024**3 // 4):  # 2GB / 4 bytes per number\n",
    "        f.write(generate_random_big_endian())"
   ]
  },
  {
   "cell_type": "code",
   "execution_count": 2,
   "metadata": {},
   "outputs": [
    {
     "name": "stdout",
     "output_type": "stream",
     "text": [
      "Running time of the first code: 1.130702257156372 seconds\n",
      "Total: 310006112\n",
      "Min: 5\n",
      "Max: 4294967260\n"
     ]
    }
   ],
   "source": [
    "import numpy as np\n",
    "import time\n",
    "\n",
    "start_time = time.time()\n",
    "\n",
    "# 使用numpy的fromfile函数读取二进制文件\n",
    "data = np.fromfile('big_file.bin', dtype=np.dtype('>u4'))\n",
    "\n",
    "# 计算总和\n",
    "total = np.sum(data)\n",
    "\n",
    "# 找到最小和最大的数字\n",
    "min_num = np.min(data)\n",
    "max_num = np.max(data)\n",
    "\n",
    "end_time = time.time()\n",
    "print(f'Running time of the first code: {end_time - start_time} seconds')\n",
    "\n",
    "print(f'Total: {total}')\n",
    "print(f'Min: {min_num}')\n",
    "print(f'Max: {max_num}')"
   ]
  },
  {
   "cell_type": "code",
   "execution_count": 3,
   "metadata": {},
   "outputs": [
    {
     "name": "stdout",
     "output_type": "stream",
     "text": [
      "Running time of the second code: 0.2974250316619873 seconds\n",
      "Total: 26079809888\n",
      "Min: 5\n",
      "Max: 4294967260\n"
     ]
    }
   ],
   "source": [
    "import mmap\n",
    "import numpy as np\n",
    "import concurrent.futures\n",
    "import time\n",
    "\n",
    "start_time = time.time()\n",
    "\n",
    "def process_data(data):\n",
    "    # 计算这部分数据的总和以及最小和最大的数字\n",
    "    total = np.sum(data)\n",
    "    min_num = np.min(data)\n",
    "    max_num = np.max(data)\n",
    "    return total, min_num, max_num\n",
    "\n",
    "# 映射文件\n",
    "with open('big_file.bin', 'rb') as f:\n",
    "    mm = mmap.mmap(f.fileno(), 0, access=mmap.ACCESS_READ)\n",
    "    data = np.frombuffer(mm, dtype=np.dtype('>u4'))\n",
    "\n",
    "# 使用多线程并行处理所有数据\n",
    "with concurrent.futures.ThreadPoolExecutor() as executor:\n",
    "    chunk_size = len(data) // 10  # 分10份处理\n",
    "    futures = [executor.submit(process_data, data[i:i+chunk_size]) for i in range(0, len(data), chunk_size)]\n",
    "    results = [f.result() for f in concurrent.futures.as_completed(futures)]\n",
    "\n",
    "# 计算总和以及最小和最大的数字\n",
    "total = sum(result[0] for result in results)\n",
    "min_num = min(result[1] for result in results)\n",
    "max_num = max(result[2] for result in results)\n",
    "\n",
    "end_time = time.time()\n",
    "print(f'Running time of the second code: {end_time - start_time} seconds')\n",
    "\n",
    "print(f'Total: {total}')\n",
    "print(f'Min: {min_num}')\n",
    "print(f'Max: {max_num}')"
   ]
  }
 ],
 "metadata": {
  "kernelspec": {
   "display_name": "base",
   "language": "python",
   "name": "python3"
  },
  "language_info": {
   "codemirror_mode": {
    "name": "ipython",
    "version": 3
   },
   "file_extension": ".py",
   "mimetype": "text/x-python",
   "name": "python",
   "nbconvert_exporter": "python",
   "pygments_lexer": "ipython3",
   "version": "3.11.4"
  }
 },
 "nbformat": 4,
 "nbformat_minor": 2
}
