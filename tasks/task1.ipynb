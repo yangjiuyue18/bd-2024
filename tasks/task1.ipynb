{
 "cells": [
  {
   "cell_type": "code",
   "execution_count": 1,
   "metadata": {},
   "outputs": [],
   "source": [
    "import random\n",
    "import struct\n",
    "\n",
    "def generate_random_big_endian():\n",
    "    # 生成一个随机的32位无符号整数\n",
    "    num = random.randint(0, 2**32 - 1)\n",
    "    # 将这个数转换为大端序的二进制形式\n",
    "    return struct.pack('>I', num)\n",
    "\n",
    "# 创建一个大文件\n",
    "with open('big_file.bin', 'wb') as f:\n",
    "    for _ in range(2 * 1024**3 // 4):  # 2GB / 4 bytes per number\n",
    "        f.write(generate_random_big_endian())"
   ]
  },
  {
   "cell_type": "code",
   "execution_count": 1,
   "metadata": {},
   "outputs": [
    {
     "name": "stdout",
     "output_type": "stream",
     "text": [
      "Total: 1.152923360342725e+18\n",
      "Min: 5\n",
      "Max: 4294967260\n",
      "Running time for mmap and multithreading: 0.5519099235534668 seconds\n"
     ]
    }
   ],
   "source": [
    "import mmap\n",
    "import numpy as np\n",
    "import concurrent.futures\n",
    "import time\n",
    "\n",
    "def process_data(data):\n",
    "    total = np.sum(data.astype(np.uint64))\n",
    "    min_num = np.min(data)\n",
    "    max_num = np.max(data)\n",
    "    return total, min_num, max_num\n",
    "\n",
    "def mmap_multithreaded_compute(filename):\n",
    "    start_time = time.time()\n",
    "    with open(filename, 'rb') as f:\n",
    "        mm = mmap.mmap(f.fileno(), 0, access=mmap.ACCESS_READ)\n",
    "        data = np.frombuffer(mm, dtype=np.dtype('>u4'))\n",
    "\n",
    "        chunk_size = len(data) // 8  # Divide into 8 chunks\n",
    "        chunks = [data[i:i + chunk_size] for i in range(0, len(data), chunk_size)]\n",
    "        if len(data) % chunk_size != 0:\n",
    "            chunks.append(data[len(data) // chunk_size * chunk_size:])\n",
    "\n",
    "        with concurrent.futures.ThreadPoolExecutor() as executor:\n",
    "            results = list(executor.map(process_data, chunks))\n",
    "\n",
    "        total = sum(result[0] for result in results)\n",
    "        min_num = min(result[1] for result in results)\n",
    "        max_num = max(result[2] for result in results)\n",
    "\n",
    "    end_time = time.time()\n",
    "    return total, min_num, max_num, end_time - start_time\n",
    "\n",
    "total, min_num, max_num, running_time = mmap_multithreaded_compute('big_file.bin')\n",
    "\n",
    "print(f\"Total: {total}\")\n",
    "print(f\"Min: {min_num}\")\n",
    "print(f\"Max: {max_num}\")\n",
    "print(f\"Running time for mmap and multithreading: {running_time} seconds\")"
   ]
  },
  {
   "cell_type": "code",
   "execution_count": 2,
   "metadata": {},
   "outputs": [
    {
     "name": "stdout",
     "output_type": "stream",
     "text": [
      "Total: 1152923360342724960\n",
      "Min: 5\n",
      "Max: 4294967260\n",
      "Running time for simple read: 84.41593670845032 seconds\n"
     ]
    }
   ],
   "source": [
    "import struct\n",
    "import time\n",
    "\n",
    "def simple_read_and_compute(filename):\n",
    "    total = 0\n",
    "    min_num = 2**32 - 1\n",
    "    max_num = 0\n",
    "    with open(filename, 'rb') as f:\n",
    "        while True:\n",
    "            bytes_read = f.read(4)\n",
    "            if not bytes_read:\n",
    "                break\n",
    "            number = struct.unpack('>I', bytes_read)[0]\n",
    "            total += number\n",
    "            if number < min_num:\n",
    "                min_num = number\n",
    "            if number > max_num:\n",
    "                max_num = number\n",
    "    return total, min_num, max_num\n",
    "\n",
    "start_time = time.time()\n",
    "total, min_num, max_num = simple_read_and_compute('big_file.bin')\n",
    "end_time = time.time()\n",
    "\n",
    "print(f\"Total: {total}\")\n",
    "print(f\"Min: {min_num}\")\n",
    "print(f\"Max: {max_num}\")\n",
    "print(f\"Running time for simple read: {end_time - start_time} seconds\")\n"
   ]
  }
 ],
 "metadata": {
  "kernelspec": {
   "display_name": "base",
   "language": "python",
   "name": "python3"
  },
  "language_info": {
   "codemirror_mode": {
    "name": "ipython",
    "version": 3
   },
   "file_extension": ".py",
   "mimetype": "text/x-python",
   "name": "python",
   "nbconvert_exporter": "python",
   "pygments_lexer": "ipython3",
   "version": "3.11.4"
  }
 },
 "nbformat": 4,
 "nbformat_minor": 2
}
