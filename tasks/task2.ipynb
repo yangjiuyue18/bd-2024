{
 "cells": [
  {
   "cell_type": "code",
   "execution_count": 1,
   "metadata": {},
   "outputs": [],
   "source": [
    "import random\n",
    "\n",
    "# 生成50000个32位随机整数\n",
    "# Генерируем 50 000 32-битных случайных целых чисел\n",
    "numbers = [random.randint(0, 2**32 - 1) for _ in range(50000)]\n",
    "\n",
    "# 将这些数字写入文件，每个数字占一行\n",
    "# Запишите эти числа в файл, по одной строке на каждое число\n",
    "with open('numbers.txt', 'w') as f:\n",
    "    for number in numbers:\n",
    "        f.write(str(number) + '\\n')"
   ]
  },
  {
   "cell_type": "code",
   "execution_count": 2,
   "metadata": {},
   "outputs": [
    {
     "name": "stdout",
     "output_type": "stream",
     "text": [
      "Total factors: 206138\n",
      "Running time: 18.693769931793213 seconds\n"
     ]
    }
   ],
   "source": [
    "import time\n",
    "\n",
    "def prime_factors(n):\n",
    "    i = 2\n",
    "    factors = []\n",
    "    while i * i <= n:\n",
    "        if n % i:\n",
    "            i += 1\n",
    "        else:\n",
    "            n //= i\n",
    "            factors.append(i)\n",
    "    if n > 1:\n",
    "        factors.append(n)\n",
    "    return factors\n",
    "\n",
    "start_time = time.time()\n",
    "\n",
    "# 读取文件中的数字\n",
    "# Чтение чисел из файла\n",
    "with open('numbers.txt', 'r') as f:\n",
    "    numbers = [int(line.strip()) for line in f]\n",
    "\n",
    "# 计算所有数字的素数因子总数\n",
    "# Подсчитайте общее количество простых факторов для всех чисел\n",
    "total_factors = sum(len(prime_factors(n)) for n in numbers)\n",
    "\n",
    "end_time = time.time()\n",
    "running_time = end_time - start_time\n",
    "\n",
    "print(f\"Total factors: {total_factors}\")\n",
    "print(f\"Running time: {running_time} seconds\")"
   ]
  },
  {
   "cell_type": "code",
   "execution_count": 4,
   "metadata": {},
   "outputs": [
    {
     "name": "stderr",
     "output_type": "stream",
     "text": [
      "2024-04-30 19:45:30,993\tINFO worker.py:1752 -- Started a local Ray instance.\n"
     ]
    },
    {
     "name": "stdout",
     "output_type": "stream",
     "text": [
      "Total factors: 206138\n",
      "Running time: 4.85775899887085 seconds\n"
     ]
    }
   ],
   "source": [
    "import ray\n",
    "import time\n",
    "\n",
    "ray.init()\n",
    "\n",
    "@ray.remote\n",
    "def prime_factors(n):\n",
    "    i = 2\n",
    "    factors = []\n",
    "    while i * i <= n:\n",
    "        if n % i:\n",
    "            i += 1\n",
    "        else:\n",
    "            n //= i\n",
    "            factors.append(i)\n",
    "    if n > 1:\n",
    "        factors.append(n)\n",
    "    return factors\n",
    "\n",
    "start_time = time.time()\n",
    "\n",
    "# 读取文件中的数字\n",
    "# Чтение чисел из файла\n",
    "with open('numbers.txt', 'r') as f:\n",
    "    numbers = [int(line.strip()) for line in f]\n",
    "\n",
    "# 使用Ray并行计算所有数字的素数因子总数\n",
    "# Вычислите общее количество простых факторов для всех чисел параллельно, используя Ray\n",
    "results = ray.get([prime_factors.remote(n) for n in numbers])\n",
    "total_factors = sum(len(result) for result in results)\n",
    "\n",
    "end_time = time.time()\n",
    "running_time = end_time - start_time\n",
    "\n",
    "print(f\"Total factors: {total_factors}\")\n",
    "print(f\"Running time: {running_time} seconds\")\n",
    "\n",
    "ray.shutdown()"
   ]
  },
  {
   "cell_type": "markdown",
   "metadata": {},
   "source": [
    "- многопоточно (на CPython - multiprocessing), с использованием примитивов синхронизации   \n",
    "Поскольку у меня возникли проблемы с модулем мультипроцессинга в Jupyter notebook, я создал отдельный python-файл    \n",
    "исходный код : task2_multiprocessing.py    \n",
    "Total prime factors: 206138    \n",
    "Processing time: 1.55 seconds"
   ]
  }
 ],
 "metadata": {
  "kernelspec": {
   "display_name": "base",
   "language": "python",
   "name": "python3"
  },
  "language_info": {
   "codemirror_mode": {
    "name": "ipython",
    "version": 3
   },
   "file_extension": ".py",
   "mimetype": "text/x-python",
   "name": "python",
   "nbconvert_exporter": "python",
   "pygments_lexer": "ipython3",
   "version": "3.11.4"
  }
 },
 "nbformat": 4,
 "nbformat_minor": 2
}
