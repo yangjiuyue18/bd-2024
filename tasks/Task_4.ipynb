{
 "cells": [
  {
   "attachments": {},
   "cell_type": "markdown",
   "metadata": {},
   "source": [
    "# Задание 5.\n",
    "\n",
    "Загрузите [данные по изменению температуры поверхности земли](https://www.kaggle.com/datasets/berkeleyearth/climate-change-earth-surface-temperature-data). Для этого может понадобится зарегистрироваться на [Kaggle](https://kaggle.com). Затем нужно будет работать с данными, которые содержатся в файле **GlobalLandTemperaturesByMajorCity.csv**\n",
    "\n",
    "**NB** Все подсчеты необходимо делать с помощью `PySpark`, без применения `pandas api`. Можно использоать `SQL`."
   ]
  },
  {
   "cell_type": "code",
   "execution_count": 5,
   "metadata": {
    "ExecuteTime": {
     "end_time": "2024-06-30T05:01:43.790579600Z",
     "start_time": "2024-06-30T05:01:38.931714900Z"
    }
   },
   "outputs": [
    {
     "name": "stdout",
     "output_type": "stream",
     "text": [
      "+----------+------------------+-----------------------------+-------+-------------+--------+---------+\n",
      "|        dt|AverageTemperature|AverageTemperatureUncertainty|   City|      Country|Latitude|Longitude|\n",
      "+----------+------------------+-----------------------------+-------+-------------+--------+---------+\n",
      "|1849-01-01|            26.704|                        1.435|Abidjan|Côte D'Ivoire|   5.63N|    3.23W|\n",
      "|1849-02-01|            27.434|                        1.362|Abidjan|Côte D'Ivoire|   5.63N|    3.23W|\n",
      "|1849-03-01|            28.101|                        1.612|Abidjan|Côte D'Ivoire|   5.63N|    3.23W|\n",
      "|1849-04-01|             26.14|           1.3869999999999998|Abidjan|Côte D'Ivoire|   5.63N|    3.23W|\n",
      "|1849-05-01|            25.427|                          1.2|Abidjan|Côte D'Ivoire|   5.63N|    3.23W|\n",
      "|1849-06-01|            24.844|                        1.402|Abidjan|Côte D'Ivoire|   5.63N|    3.23W|\n",
      "|1849-07-01|24.058000000000003|                        1.254|Abidjan|Côte D'Ivoire|   5.63N|    3.23W|\n",
      "|1849-08-01|            23.576|                        1.265|Abidjan|Côte D'Ivoire|   5.63N|    3.23W|\n",
      "|1849-09-01|            23.662|                        1.226|Abidjan|Côte D'Ivoire|   5.63N|    3.23W|\n",
      "|1849-10-01|            25.263|                        1.175|Abidjan|Côte D'Ivoire|   5.63N|    3.23W|\n",
      "+----------+------------------+-----------------------------+-------+-------------+--------+---------+\n"
     ]
    }
   ],
   "source": [
    "import zipfile\n",
    "import pandas as pd\n",
    "import matplotlib.pyplot as plt\n",
    "\n",
    "from pyspark.sql import SparkSession\n",
    "\n",
    "%matplotlib inline\n",
    "\n",
    "spark = SparkSession \\\n",
    "    .builder \\\n",
    "    .master(\"local[*]\") \\\n",
    "    .appName(\"PySpark\") \\\n",
    "    .getOrCreate()\n",
    "\n",
    "with zipfile.ZipFile(\"archive.zip\") as z:\n",
    "    with z.open(\"GlobalLandTemperaturesByMajorCity.csv\") as f:\n",
    "        pandas_df = pd.read_csv(f)\n",
    "        df = spark.createDataFrame(pandas_df)\n",
    "\n",
    "df.show(10)"
   ]
  },
  {
   "cell_type": "markdown",
   "metadata": {},
   "source": [
    "# Задание 4.1 (1 балл)\n",
    "\n",
    "В последующих заданиях будут учитываться данные начиная с 01.01.1950. Для этого создайте новый `DataFrame`, в котором удалены все строки до 01.01.1950. Используйте созданный DataFrame в последующих заданиях.  "
   ]
  },
  {
   "cell_type": "code",
   "execution_count": 6,
   "metadata": {
    "ExecuteTime": {
     "end_time": "2024-06-30T05:01:44.338188Z",
     "start_time": "2024-06-30T05:01:43.793503500Z"
    }
   },
   "outputs": [
    {
     "name": "stdout",
     "output_type": "stream",
     "text": [
      "+----------+------------------+-----------------------------+-------+-------------+--------+---------+\n",
      "|        dt|AverageTemperature|AverageTemperatureUncertainty|   City|      Country|Latitude|Longitude|\n",
      "+----------+------------------+-----------------------------+-------+-------------+--------+---------+\n",
      "|1950-01-01|26.773000000000003|                        0.239|Abidjan|Côte D'Ivoire|   5.63N|    3.23W|\n",
      "|1950-02-01|            27.527|                        0.348|Abidjan|Côte D'Ivoire|   5.63N|    3.23W|\n",
      "|1950-03-01|            28.344|                        0.431|Abidjan|Côte D'Ivoire|   5.63N|    3.23W|\n",
      "|1950-04-01|             27.83|                        0.467|Abidjan|Côte D'Ivoire|   5.63N|    3.23W|\n",
      "|1950-05-01|            26.896|                        0.248|Abidjan|Côte D'Ivoire|   5.63N|    3.23W|\n",
      "|1950-06-01|            25.454|                        0.209|Abidjan|Côte D'Ivoire|   5.63N|    3.23W|\n",
      "|1950-07-01|            24.878|                        0.403|Abidjan|Côte D'Ivoire|   5.63N|    3.23W|\n",
      "|1950-08-01|            23.734|                        0.314|Abidjan|Côte D'Ivoire|   5.63N|    3.23W|\n",
      "|1950-09-01|            24.253|                        0.257|Abidjan|Côte D'Ivoire|   5.63N|    3.23W|\n",
      "|1950-10-01|            25.266|                        0.191|Abidjan|Côte D'Ivoire|   5.63N|    3.23W|\n",
      "+----------+------------------+-----------------------------+-------+-------------+--------+---------+\n"
     ]
    }
   ],
   "source": [
    "from pyspark.sql.functions import col\n",
    "\n",
    "# 转换日期列为日期类型\n",
    "# Преобразуйте столбец с датой в тип дата\n",
    "df = df.withColumn(\"dt\", col(\"dt\").cast(\"date\"))\n",
    "\n",
    "# 过滤1950年1月1日之后的数据\n",
    "# Отфильтруйте данные после 1 января 1950 года\n",
    "df_filtered = df.filter(col(\"dt\") >= \"1950-01-01\")\n",
    "\n",
    "df_filtered.show(10)\n"
   ]
  },
  {
   "cell_type": "markdown",
   "metadata": {},
   "source": [
    "# Задание 4.2 (2 балла)\n",
    "\n",
    "Найдите город, для которого выборочная дисперсия температур на приведенных данных максимальна. "
   ]
  },
  {
   "cell_type": "code",
   "execution_count": 21,
   "metadata": {
    "ExecuteTime": {
     "end_time": "2024-06-30T05:43:09.224673200Z",
     "start_time": "2024-06-30T05:42:55.465738700Z"
    }
   },
   "outputs": [
    {
     "name": "stdout",
     "output_type": "stream",
     "text": [
      "City with maximum temperature variance: Row(City='Harbin', TemperatureVariance=218.898615951821)\n"
     ]
    }
   ],
   "source": [
    "from pyspark.sql.functions import col, var_samp\n",
    "\n",
    "# 转换AverageTemperature列为double类型并过滤掉包含空值的行\n",
    "# Преобразуйте столбец AverageTemperature в тип double и удалите строки, содержащие пустые значения\n",
    "df_filtered_non_null = df_filtered.filter(df_filtered[\"AverageTemperature\"].isNotNull())\n",
    "df_filtered_non_null = df_filtered_non_null.withColumn(\"AverageTemperature\", col(\"AverageTemperature\").cast(\"double\"))\n",
    "\n",
    "# 检查是否存在非数值数据，如NaN和无穷大\n",
    "# Проверьте наличие нечисловых данных, таких как NaN и бесконечность\n",
    "df_filtered_non_null = df_filtered_non_null.filter(~col(\"AverageTemperature\").isin([float(\"nan\"), float(\"inf\"), float(\"-inf\")]))\n",
    "\n",
    "# 计算每个城市的温度样本方差\n",
    "# Вычислите выборочную дисперсию температуры для каждого города\n",
    "city_variance = df_filtered_non_null.groupBy(\"City\").agg(var_samp(\"AverageTemperature\").alias(\"TemperatureVariance\"))\n",
    "\n",
    "# 找出温度方差最大的城市\n",
    "# Найдите город с максимальной дисперсией температуры\n",
    "max_variance_city = city_variance.orderBy(col(\"TemperatureVariance\").desc()).first()\n",
    "\n",
    "print(\"City with maximum temperature variance:\", max_variance_city)\n"
   ]
  },
  {
   "cell_type": "markdown",
   "metadata": {},
   "source": [
    "# Задание 4.3 (2 баллов)\n",
    "\n",
    "Посчитайте данные по среднегодовой температуре в Санкт-Петербурге. Определите года, в которых средняя температура была выше, чем в предыдущем  и последующем году. "
   ]
  },
  {
   "cell_type": "code",
   "execution_count": 23,
   "metadata": {
    "ExecuteTime": {
     "end_time": "2024-06-30T05:58:05.420892300Z",
     "start_time": "2024-06-30T05:57:51.730142900Z"
    }
   },
   "outputs": [
    {
     "name": "stdout",
     "output_type": "stream",
     "text": [
      "+----+------------------+------------------+------------------+\n",
      "|Year|     YearlyAvgTemp|      PrevYearTemp|      NextYearTemp|\n",
      "+----+------------------+------------------+------------------+\n",
      "|1953| 4.840083333333333| 3.749333333333333|             4.454|\n",
      "|1957| 4.856249999999999|2.5654999999999997|3.2618333333333336|\n",
      "|1959| 5.026000000000001|3.2618333333333336| 4.108249999999999|\n",
      "|1961| 5.842083333333334| 4.108249999999999| 4.038250000000001|\n",
      "|1964| 4.414166666666666|3.4835833333333333| 3.702166666666667|\n",
      "|1967| 4.618666666666667|2.8411666666666666|3.4489999999999994|\n",
      "|1972| 5.294333333333333| 4.157750000000001| 4.421500000000001|\n",
      "|1975| 5.885249999999999| 5.642583333333334|2.5989166666666668|\n",
      "|1977|3.9462500000000005|2.5989166666666668|2.6957500000000003|\n",
      "|1979|4.0605833333333345|2.6957500000000003|3.6558333333333333|\n",
      "|1983| 5.237583333333333| 4.482166666666667| 5.008583333333333|\n",
      "|1986| 4.054749999999999|2.6400833333333336|2.2548333333333335|\n",
      "|1989| 6.585916666666667| 4.930166666666667| 5.629416666666668|\n",
      "|1992| 5.415833333333334| 5.366583333333335| 4.242249999999999|\n",
      "|1995| 5.422583333333333| 4.384333333333333|3.9742499999999996|\n",
      "|1997| 4.668416666666667|3.9742499999999996|4.2459999999999996|\n",
      "|2000| 6.184666666666665| 5.440166666666667| 4.963500000000001|\n",
      "|2002|           5.07675| 4.963500000000001| 4.847416666666667|\n",
      "|2005| 5.553249999999999| 5.113666666666667| 5.474916666666668|\n",
      "|2008| 6.408416666666667| 5.913249999999999| 5.177416666666668|\n",
      "+----+------------------+------------------+------------------+\n"
     ]
    }
   ],
   "source": [
    "from pyspark.sql.functions import year, avg, lag, lead\n",
    "from pyspark.sql.window import Window\n",
    "\n",
    "# 过滤圣彼得堡的数据\n",
    "# Отфильтруйте данные по Санкт-Петербургу\n",
    "spb_data = df_filtered_non_null.filter(col(\"City\") == \"Saint Petersburg\")\n",
    "\n",
    "# 计算每年的平均温度\n",
    "# Вычислите среднегодовую температуру\n",
    "spb_yearly_avg = spb_data.groupBy(year(\"dt\").alias(\"Year\")).agg(avg(\"AverageTemperature\").alias(\"YearlyAvgTemp\"))\n",
    "\n",
    "# 增加前一年和后一年的温度用于比较\n",
    "# Добавьте температуру предыдущего и следующего года для сравнения\n",
    "windowSpec = Window.orderBy(\"Year\")\n",
    "spb_yearly_avg = spb_yearly_avg.withColumn(\"PrevYearTemp\", lag(\"YearlyAvgTemp\").over(windowSpec))\n",
    "spb_yearly_avg = spb_yearly_avg.withColumn(\"NextYearTemp\", lead(\"YearlyAvgTemp\").over(windowSpec))\n",
    "\n",
    "# 过滤平均温度高于前一年和后一年的年份\n",
    "# Отфильтруйте годы с температурой выше, чем в предыдущем и следующем году\n",
    "spb_special_years = spb_yearly_avg.filter(\n",
    "    (col(\"YearlyAvgTemp\") > col(\"PrevYearTemp\")) & \n",
    "    (col(\"YearlyAvgTemp\") > col(\"NextYearTemp\"))\n",
    ")\n",
    "\n",
    "spb_special_years.show()\n"
   ]
  },
  {
   "cell_type": "markdown",
   "metadata": {},
   "source": [
    "# Задание 4.4 (4 балла)\n",
    "\n",
    "Найдите города, для которых: \n",
    "1. Разница между максимальным и минимальным значением среднегодовой температуры в выборке максимальна.\n",
    "2. Самая большая средняя разница между средней температурой января и средней температурой июля.\n",
    "3. Наибольшее среднее количество месяцев с отрицательной температурой в году."
   ]
  },
  {
   "cell_type": "code",
   "execution_count": 24,
   "metadata": {
    "ExecuteTime": {
     "end_time": "2024-06-30T05:59:16.633484400Z",
     "start_time": "2024-06-30T05:58:21.855790300Z"
    }
   },
   "outputs": [
    {
     "name": "stdout",
     "output_type": "stream",
     "text": [
      "City with maximum difference between max and min yearly average temperatures: Row(City='Mashhad', MaxYearlyAvgTemp=15.938500000000001, MinYearlyAvgTemp=10.6885, TempRange=5.250000000000002)\n",
      "City with maximum average temperature difference between January and July: Row(City='Harbin', JanuaryAvgTemp=-18.578421875000004, JulyAvgTemp=23.414296874999998, TempDiff=41.99271875)\n",
      "City with the highest average number of months with negative temperatures: Row(City='Harbin', AvgNegTempMonths=4.90625)\n"
     ]
    }
   ],
   "source": [
    "from pyspark.sql.functions import max, min, avg, year, month, sum, col\n",
    "\n",
    "## 1. 最大和最小年平均温度值之间的差异最大的城市\n",
    "## 1. Города с наибольшей разницей между максимальными и минимальными значениями среднегодовой температуры\n",
    "# 计算每个城市每年的平均温度\n",
    "# Рассчитайте среднегодовую температуру для каждого города\n",
    "city_yearly_avg = df_filtered_non_null.groupBy(\"City\", year(\"dt\").alias(\"Year\")).agg(avg(\"AverageTemperature\").alias(\"YearlyAvgTemp\"))\n",
    "\n",
    "# 计算每个城市的最大和最小年平均温度\n",
    "# Рассчитайте максимальную и минимальную среднегодовую температуру для каждого города\n",
    "city_temp_range = city_yearly_avg.groupBy(\"City\").agg(\n",
    "    max(\"YearlyAvgTemp\").alias(\"MaxYearlyAvgTemp\"),\n",
    "    min(\"YearlyAvgTemp\").alias(\"MinYearlyAvgTemp\")\n",
    ")\n",
    "\n",
    "# 计算每个城市的年平均温度范围（最大值 - 最小值）\n",
    "# Рассчитайте разницу между максимальным и минимальным годовым средними температурами для каждого города\n",
    "city_temp_range = city_temp_range.withColumn(\"TempRange\", col(\"MaxYearlyAvgTemp\") - col(\"MinYearlyAvgTemp\"))\n",
    "\n",
    "# 找出年平均温度范围最大的城市\n",
    "# Найдите город с максимальной разницей между максимальным и минимальным годовым средними температурами\n",
    "max_temp_range_city = city_temp_range.orderBy(col(\"TempRange\").desc()).first()\n",
    "print(\"City with maximum difference between max and min yearly average temperatures:\", max_temp_range_city)\n",
    "\n",
    "\n",
    "## 2. 一月平均温度和七月平均温度之间的平均差异最大的城市\n",
    "## 2. Города с наибольшей средней разницей между средней температурой января и средней температурой июля\n",
    "# 添加月份列\n",
    "# Добавьте столбцы месяцев\n",
    "df_filtered_non_null = df_filtered_non_null.withColumn(\"Month\", month(\"dt\"))\n",
    "\n",
    "# 计算每个城市一月和七月的平均温度\n",
    "# Рассчитайте среднюю температуру для каждого города в январе и июле\n",
    "january_avg = df_filtered_non_null.filter(col(\"Month\") == 1).groupBy(\"City\").agg(avg(\"AverageTemperature\").alias(\"JanuaryAvgTemp\"))\n",
    "july_avg = df_filtered_non_null.filter(col(\"Month\") == 7).groupBy(\"City\").agg(avg(\"AverageTemperature\").alias(\"JulyAvgTemp\"))\n",
    "\n",
    "# 计算一月和七月平均温度差\n",
    "# Рассчитайте разницу между средней температурой в январе и июле\n",
    "jan_july_diff = january_avg.join(july_avg, \"City\").withColumn(\"TempDiff\", col(\"JulyAvgTemp\") - col(\"JanuaryAvgTemp\"))\n",
    "\n",
    "# 找出一月和七月平均温度差最大的城市\n",
    "# Найдите город с максимальной разницей между средней температурой в январе и июле\n",
    "max_temp_diff_city = jan_july_diff.orderBy(col(\"TempDiff\").desc()).first()\n",
    "print(\"City with maximum average temperature difference between January and July:\", max_temp_diff_city)\n",
    "\n",
    "\n",
    "## 3. 每年平均月数中温度为负数的最多的城市\n",
    "## 3. Города с наибольшим количеством отрицательных температур в среднем за несколько месяцев в году\n",
    "# 添加一个列标识温度是否为负数\n",
    "# Добавьте столбец, определяющий, является ли температура отрицательной или нет\n",
    "df_filtered_non_null = df_filtered_non_null.withColumn(\"NegativeTemp\", (col(\"AverageTemperature\") < 0).cast(\"int\"))\n",
    "\n",
    "# 计算每个城市每年温度为负数的月份数\n",
    "# Рассчитайте количество месяцев с отрицательной температурой для каждого города\n",
    "city_neg_temp_count = df_filtered_non_null.groupBy(\"City\", year(\"dt\").alias(\"Year\")).agg(sum(\"NegativeTemp\").alias(\"NegTempMonths\"))\n",
    "\n",
    "# 计算每个城市的平均负温月份数\n",
    "# Рассчитайте среднее количество месяцев с отрицательной температурой для каждого города\n",
    "avg_neg_temp_count = city_neg_temp_count.groupBy(\"City\").agg(avg(\"NegTempMonths\").alias(\"AvgNegTempMonths\"))\n",
    "\n",
    "# 找出平均负温月份数最多的城市\n",
    "# Найдите город с наибольшим средним количеством месяцев с отрицательной температурой\n",
    "max_neg_temp_city = avg_neg_temp_count.orderBy(col(\"AvgNegTempMonths\").desc()).first()\n",
    "print(\"City with the highest average number of months with negative temperatures:\", max_neg_temp_city)\n"
   ]
  }
 ],
 "metadata": {
  "kernelspec": {
   "display_name": "Python 3.10.6 64-bit",
   "language": "python",
   "name": "python3"
  },
  "language_info": {
   "codemirror_mode": {
    "name": "ipython",
    "version": 3
   },
   "file_extension": ".py",
   "mimetype": "text/x-python",
   "name": "python",
   "nbconvert_exporter": "python",
   "pygments_lexer": "ipython3",
   "version": "3.9.13"
  },
  "orig_nbformat": 4,
  "vscode": {
   "interpreter": {
    "hash": "916dbcbb3f70747c44a77c7bcd40155683ae19c65e1c03b4aa3499c5328201f1"
   }
  }
 },
 "nbformat": 4,
 "nbformat_minor": 2
}
