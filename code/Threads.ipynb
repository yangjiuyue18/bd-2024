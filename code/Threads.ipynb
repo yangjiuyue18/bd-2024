{
 "cells": [
  {
   "cell_type": "code",
   "execution_count": 1,
   "metadata": {},
   "outputs": [],
   "source": [
    "import threading"
   ]
  },
  {
   "cell_type": "markdown",
   "metadata": {},
   "source": [
    "# Создание потоков"
   ]
  },
  {
   "cell_type": "code",
   "execution_count": 2,
   "metadata": {},
   "outputs": [
    {
     "name": "stdout",
     "output_type": "stream",
     "text": [
      "Thread 1: 120\n",
      "\n",
      "Thread 2: 93326215443944152681699238856266700490715968264381621468592963895217599993229915608941463976156518286253697920827223758251185210916864000000000000000000000000\n",
      "\n"
     ]
    }
   ],
   "source": [
    "def foo(n, thread_num):\n",
    "    res = 1\n",
    "    for i in range(1, n + 1):\n",
    "        res *= i\n",
    "    \n",
    "    print('Thread {}: {}\\n'.format(thread_num, res))\n",
    "\n",
    "thread1 = threading.Thread(target=foo, args=(5, 1))\n",
    "thread2 = threading.Thread(target=foo, args=(100, 2))\n",
    "\n",
    "thread1.start()\n",
    "thread2.start()\n",
    "\n",
    "thread1.join()\n",
    "thread2.join()"
   ]
  },
  {
   "cell_type": "markdown",
   "metadata": {},
   "source": [
    "# ThreadPoolExecutor\n",
    "\n",
    "Создание поток - дорогая операция. `ThreadPoolExecutor` - это пул поток, методв `submit` назначает заданию какой-то свободный поток (если есть свободные, иначе ставит в очередь). \n",
    "\n",
    "`Future` (оно же в определенном варианте `Promise`, `CompletableFuture`) - это некоторая ручка, которая позволяет отслеживать процесс выполнения задания, получать результат и т.п."
   ]
  },
  {
   "cell_type": "code",
   "execution_count": 3,
   "metadata": {},
   "outputs": [
    {
     "data": {
      "text/plain": [
       "(8, 120, 3628800)"
      ]
     },
     "execution_count": 3,
     "metadata": {},
     "output_type": "execute_result"
    }
   ],
   "source": [
    "from concurrent.futures import ThreadPoolExecutor, Future\n",
    "from tqdm import tqdm\n",
    "\n",
    "def fact(n):\n",
    "    res = 1\n",
    "    for i in range(1, n + 1):\n",
    "        res *= i\n",
    "    \n",
    "    return res\n",
    "\n",
    "def add(a, b):\n",
    "    return a + b\n",
    "\n",
    "executor = ThreadPoolExecutor(max_workers=3)\n",
    "\n",
    "future1 = executor.submit(fact, 5)\n",
    "future2 = executor.submit(fact, 10)\n",
    "future3 = executor.submit(add, 5, 3)\n",
    "\n",
    "future3.result(), future1.result(), future2.result()"
   ]
  },
  {
   "cell_type": "markdown",
   "metadata": {},
   "source": [
    "Есть многопоточный аналог функции `map`"
   ]
  },
  {
   "cell_type": "code",
   "execution_count": 4,
   "metadata": {},
   "outputs": [
    {
     "data": {
      "text/plain": [
       "<map at 0x7f671828c080>"
      ]
     },
     "execution_count": 4,
     "metadata": {},
     "output_type": "execute_result"
    }
   ],
   "source": [
    "it = [x * 10 for x in range(10000)]\n",
    "\n",
    "[x**2 for x in it]\n",
    "map(lambda x: x**2, it)"
   ]
  },
  {
   "cell_type": "code",
   "execution_count": 5,
   "metadata": {},
   "outputs": [],
   "source": [
    "it = [x * 10 for x in range(10000)]\n",
    "for r in executor.map(lambda x: x ** 2, it):\n",
    "    pass"
   ]
  },
  {
   "cell_type": "markdown",
   "metadata": {},
   "source": [
    "# Блокировки\n",
    "\n",
    "`Lock` - самый просто примитив синхронизации. Для блокировки можно (нужно) использовать котнекстные менеджеры"
   ]
  },
  {
   "cell_type": "code",
   "execution_count": 6,
   "metadata": {},
   "outputs": [],
   "source": [
    "lock = threading.Lock()\n",
    "\n",
    "# взять блокировку\n",
    "lock.acquire()\n",
    "try:\n",
    "    # do something\n",
    "    pass\n",
    "finally:\n",
    "    # не забываем освободить\n",
    "    lock.release()\n",
    "    \n",
    "    \n",
    "# или тоже самое по смыслу\n",
    "with lock:\n",
    "    # do something\n",
    "    pass"
   ]
  },
  {
   "cell_type": "markdown",
   "metadata": {},
   "source": [
    "Когда имеем дело с общими для потоко данными - блокировка обязательна, даже для `Python`, в котором есть `GIL`. В данном примере каждый поток увеличивает счетчик. "
   ]
  },
  {
   "cell_type": "code",
   "execution_count": 7,
   "metadata": {},
   "outputs": [
    {
     "data": {
      "text/plain": [
       "<Future at 0x7f6701d48b38 state=pending>"
      ]
     },
     "execution_count": 7,
     "metadata": {},
     "output_type": "execute_result"
    }
   ],
   "source": [
    "lock_a = threading.Lock()\n",
    "lock_b = threading.Lock()\n",
    "\n",
    "a = 0\n",
    "b = 0\n",
    "\n",
    "def func_a():\n",
    "    with lock_a:\n",
    "        with lock_b:\n",
    "            a = 5\n",
    "            b = 1\n",
    "\n",
    "\n",
    "def func_b():\n",
    "    with lock_a:\n",
    "        with lock_b:\n",
    "            b = 2\n",
    "            a = 1\n",
    "\n",
    "executor.submit(func_a)\n",
    "executor.submit(func_b)"
   ]
  },
  {
   "cell_type": "code",
   "execution_count": 8,
   "metadata": {},
   "outputs": [],
   "source": [
    "executor = ThreadPoolExecutor(max_workers=3)\n",
    "\n",
    "lock = threading.Lock()\n",
    "a = 1\n",
    "\n",
    "def func():\n",
    "    global a\n",
    "    with lock:\n",
    "       a += 1\n",
    "\n",
    "for idx in range(100000):\n",
    "    executor.submit(func)"
   ]
  },
  {
   "cell_type": "code",
   "execution_count": 9,
   "metadata": {},
   "outputs": [],
   "source": [
    "acc = 0\n",
    "\n",
    "lock = threading.Lock()\n",
    "\n",
    "def foo(lock):    \n",
    "    global acc\n",
    "    \n",
    "    with lock:\n",
    "        acc += 1\n",
    "            \n",
    "        \n",
    "futures = [executor.submit(foo, lock) for _ in range(10)]\n",
    "for future in futures:\n",
    "    future.result()"
   ]
  },
  {
   "cell_type": "markdown",
   "metadata": {},
   "source": [
    "# Очереди\n",
    "\n",
    "Для взаимодействия потоков можно использовать очереди. Очереди поддерживают две операции:\n",
    "   - положить в очередь `put()`\n",
    "   - взять из очереди `get()`\n",
    "   \n",
    "Очерель может иметь фиксированный размер, в тако случае операция `put()` блокируется, если очередь полна, а операция `get()` блокируется если очередь пуста."
   ]
  },
  {
   "cell_type": "code",
   "execution_count": 10,
   "metadata": {},
   "outputs": [
    {
     "name": "stdout",
     "output_type": "stream",
     "text": [
      "Новости Санкт-Петербурга - главные новости сегодня | fontanka.ru - новости Санкт-Петербурга\n",
      "Lenta.ru - Новости России и мира сегодня\n",
      "Главные новости - Газета.Ru\n"
     ]
    }
   ],
   "source": [
    "import requests\n",
    "import queue\n",
    "import lxml.html\n",
    "\n",
    "num_workers = 3\n",
    "\n",
    "# функция получает сообщения из очереди `q`. Если там ссылка - загружает сайт по ссылке. Если `None` - завершает свое выполнение\n",
    "def worker(q: queue.Queue):\n",
    "    titles = []\n",
    "    \n",
    "    while True:\n",
    "        item = q.get()\n",
    "        if item is None:\n",
    "            break        \n",
    "        res = requests.get(item)\n",
    "        titles.append(lxml.html.fromstring(res.text).xpath('//title/text()')[0].strip())\n",
    "    \n",
    "    return ';'.join(titles)\n",
    "        \n",
    "# Создаем очередь\n",
    "q = queue.Queue(maxsize=2)\n",
    "\n",
    "# создем потоки (для простоты засовываем всё в Executor)\n",
    "futures = [executor.submit(worker, q) for _ in range(num_workers)]\n",
    "    \n",
    "# добавляем ссылки в очередь    \n",
    "for item in ['http://fontanka.ru', 'http://lenta.ru', 'http://gazeta.ru']:\n",
    "    q.put(item)\n",
    "\n",
    "# добавляем в очередь None, чтобы завершить все потоки    \n",
    "for i in range(num_workers):\n",
    "    q.put(None)\n",
    "\n",
    "    \n",
    "for t in futures:\n",
    "    print(t.result())"
   ]
  },
  {
   "cell_type": "markdown",
   "metadata": {},
   "source": [
    "# Процессы\n",
    "\n",
    "Потоки в `CPython` неэффективны для вычислительно-сложный операций, так как присутствут `GIL`. В качестве альтернативы есть модуль `multiprocessing`, который создает процессы вместо потоков. Новый процесс имеет своё адресное пространство памяти, потому взаимодействие между процессами некоторым образом осложнено. Более того, метод создание дочерних процессов может различаться в зависимости от операционной системы."
   ]
  },
  {
   "cell_type": "code",
   "execution_count": 11,
   "metadata": {},
   "outputs": [
    {
     "name": "stdout",
     "output_type": "stream",
     "text": [
      "933262154439441526816992388562667004907159682643816214685929638952175999932299156089414639761565182862536979208272237582511852109168640000000000000000000000 3943289336823952517761816069660925311475679888435866316473712666221797249817016714601521420059923119520886060694598194151288213951213185525309633124764149655567314286353816586186984944719612228107258321201270166459320656137141474266387621212037869516201606287027897843301130159520851620311758504293980894611113948118519486873600000000000000000000000000000000000000000000000\n"
     ]
    }
   ],
   "source": [
    "# Загружаем параллельно три ссылки\n",
    "\n",
    "from multiprocessing import Process, Pool\n",
    "\n",
    "import time\n",
    "\n",
    "def fact(n):\n",
    "    res = 1\n",
    "    for i in range(1, n):\n",
    "        res *= i\n",
    "    \n",
    "    return res\n",
    "\n",
    "with Pool() as pool:    \n",
    "    fut1 = pool.apply_async(fact, args=(100,))\n",
    "    fut2 = pool.apply_async(fact, args=(200,))\n",
    "    print(fut1.get(), fut2.get())"
   ]
  },
  {
   "cell_type": "code",
   "execution_count": 12,
   "metadata": {},
   "outputs": [
    {
     "name": "stdout",
     "output_type": "stream",
     "text": [
      "933262154439441526816992388562667004907159682643816214685929638952175999932299156089414639761565182862536979208272237582511852109168640000000000000000000000 3943289336823952517761816069660925311475679888435866316473712666221797249817016714601521420059923119520886060694598194151288213951213185525309633124764149655567314286353816586186984944719612228107258321201270166459320656137141474266387621212037869516201606287027897843301130159520851620311758504293980894611113948118519486873600000000000000000000000000000000000000000000000\n"
     ]
    }
   ],
   "source": [
    "# Загружаем параллельно три ссылки\n",
    "\n",
    "from concurrent.futures import ProcessPoolExecutor, ThreadPoolExecutor\n",
    "\n",
    "import time\n",
    "\n",
    "def fact(n):\n",
    "    res = 1\n",
    "    for i in range(1, n):\n",
    "        res *= i\n",
    "    \n",
    "    return res\n",
    "\n",
    "with ProcessPoolExecutor(4) as pool:\n",
    "    fut1 = pool.submit(fact, 100)\n",
    "    fut2 = pool.submit(fact, 200)\n",
    "    print(fut1.result(), fut2.result())"
   ]
  }
 ],
 "metadata": {
  "interpreter": {
   "hash": "30295c5bec572e859485b1ffa5e89b8b3e2022ef6e3e739c1ac40f143a557caf"
  },
  "kernelspec": {
   "display_name": "",
   "name": "python3"
  },
  "language_info": {
   "codemirror_mode": {
    "name": "ipython",
    "version": 3
   },
   "file_extension": ".py",
   "mimetype": "text/x-python",
   "name": "python",
   "nbconvert_exporter": "python",
   "pygments_lexer": "ipython3",
   "version": "3.6.9"
  }
 },
 "nbformat": 4,
 "nbformat_minor": 4
}
